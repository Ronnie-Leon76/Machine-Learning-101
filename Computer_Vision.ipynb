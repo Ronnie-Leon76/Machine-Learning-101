{
  "nbformat": 4,
  "nbformat_minor": 0,
  "metadata": {
    "colab": {
      "provenance": [],
      "authorship_tag": "ABX9TyNfMIeylb5ONBa/zbJ5KxjH",
      "include_colab_link": true
    },
    "kernelspec": {
      "name": "python3",
      "display_name": "Python 3"
    },
    "language_info": {
      "name": "python"
    }
  },
  "cells": [
    {
      "cell_type": "markdown",
      "metadata": {
        "id": "view-in-github",
        "colab_type": "text"
      },
      "source": [
        "<a href=\"https://colab.research.google.com/github/Ronnie-Leon76/Machine-Learning-101/blob/main/Computer_Vision.ipynb\" target=\"_parent\"><img src=\"https://colab.research.google.com/assets/colab-badge.svg\" alt=\"Open In Colab\"/></a>"
      ]
    },
    {
      "cell_type": "code",
      "execution_count": 1,
      "metadata": {
        "colab": {
          "base_uri": "https://localhost:8080/"
        },
        "id": "VyXbk6J0NeqL",
        "outputId": "bb8fe365-e609-4047-8cee-3095b0272269"
      },
      "outputs": [
        {
          "output_type": "stream",
          "name": "stdout",
          "text": [
            "2.9.2\n"
          ]
        }
      ],
      "source": [
        "import tensorflow as tf\n",
        "print(tf.__version__)"
      ]
    },
    {
      "cell_type": "code",
      "source": [
        "from tensorflow.keras.datasets import mnist"
      ],
      "metadata": {
        "id": "jBOXbFwnNpW3"
      },
      "execution_count": 2,
      "outputs": []
    },
    {
      "cell_type": "code",
      "source": [
        "(X_train, y_train), (X_test, y_test) = mnist.load_data()"
      ],
      "metadata": {
        "colab": {
          "base_uri": "https://localhost:8080/"
        },
        "id": "745JcWt3N1zm",
        "outputId": "e94f242c-2814-41de-fa19-80e3aef75b2b"
      },
      "execution_count": 3,
      "outputs": [
        {
          "output_type": "stream",
          "name": "stdout",
          "text": [
            "Downloading data from https://storage.googleapis.com/tensorflow/tf-keras-datasets/mnist.npz\n",
            "11490434/11490434 [==============================] - 0s 0us/step\n"
          ]
        }
      ]
    },
    {
      "cell_type": "code",
      "source": [
        "X_train.shape"
      ],
      "metadata": {
        "colab": {
          "base_uri": "https://localhost:8080/"
        },
        "id": "HJzpKPOLOBbd",
        "outputId": "d7c313dc-e5f7-47be-eb81-bb3696730615"
      },
      "execution_count": 4,
      "outputs": [
        {
          "output_type": "execute_result",
          "data": {
            "text/plain": [
              "(60000, 28, 28)"
            ]
          },
          "metadata": {},
          "execution_count": 4
        }
      ]
    },
    {
      "cell_type": "code",
      "source": [
        "X_train[0].shape"
      ],
      "metadata": {
        "colab": {
          "base_uri": "https://localhost:8080/"
        },
        "id": "cgCBQ-JbOHZs",
        "outputId": "73d166a5-e568-46de-c6c3-d04bf9361f1a"
      },
      "execution_count": 5,
      "outputs": [
        {
          "output_type": "execute_result",
          "data": {
            "text/plain": [
              "(28, 28)"
            ]
          },
          "metadata": {},
          "execution_count": 5
        }
      ]
    },
    {
      "cell_type": "code",
      "source": [
        "%matplotlib inline\n",
        "import matplotlib as mpl\n",
        "import matplotlib.pyplot as plt\n",
        "plt.imshow(X_train[0], cmap=plt.cm.gray, interpolation='nearest')"
      ],
      "metadata": {
        "colab": {
          "base_uri": "https://localhost:8080/",
          "height": 282
        },
        "id": "TojtITOgOQ3d",
        "outputId": "b02a1615-87c2-47f4-881e-600a69260317"
      },
      "execution_count": 7,
      "outputs": [
        {
          "output_type": "execute_result",
          "data": {
            "text/plain": [
              "<matplotlib.image.AxesImage at 0x7f29f38f4c50>"
            ]
          },
          "metadata": {},
          "execution_count": 7
        },
        {
          "output_type": "display_data",
          "data": {
            "text/plain": [
              "<Figure size 432x288 with 1 Axes>"
            ],
            "image/png": "[encoded data removed]"
          },
          "metadata": {
            "needs_background": "light"
          }
        }
      ]
    },
    {
      "cell_type": "code",
      "source": [
        "print(y_train[0])"
      ],
      "metadata": {
        "colab": {
          "base_uri": "https://localhost:8080/"
        },
        "id": "lmfEe72lOvGM",
        "outputId": "7461f093-058c-42c8-df9b-ef73727a4ca4"
      },
      "execution_count": 8,
      "outputs": [
        {
          "output_type": "stream",
          "name": "stdout",
          "text": [
            "5\n"
          ]
        }
      ]
    },
    {
      "cell_type": "code",
      "source": [
        "plt.imshow(X_train[0])"
      ],
      "metadata": {
        "colab": {
          "base_uri": "https://localhost:8080/",
          "height": 282
        },
        "id": "9UlLa2EaO-Vb",
        "outputId": "91f0ca1c-f63c-4916-87ed-d335ec0feba0"
      },
      "execution_count": 9,
      "outputs": [
        {
          "output_type": "execute_result",
          "data": {
            "text/plain": [
              "<matplotlib.image.AxesImage at 0x7f29f31474d0>"
            ]
          },
          "metadata": {},
          "execution_count": 9
        },
        {
          "output_type": "display_data",
          "data": {
            "text/plain": [
              "<Figure size 432x288 with 1 Axes>"
            ],
            "image/png": "[encoded data removed]"
          },
          "metadata": {
            "needs_background": "light"
          }
        }
      ]
    },
    {
      "cell_type": "code",
      "source": [
        "import numpy as np\n",
        "np.set_printoptions(edgeitems=30, linewidth=100000)\n",
        "print(X_train[0])"
      ],
      "metadata": {
        "colab": {
          "base_uri": "https://localhost:8080/"
        },
        "id": "nPe-Tp_uPFkT",
        "outputId": "a91b45a4-ef89-42c0-a52a-40c4d2262070"
      },
      "execution_count": 10,
      "outputs": [
        {
          "output_type": "stream",
          "name": "stdout",
          "text": [
            "[[  0   0   0   0   0   0   0   0   0   0   0   0   0   0   0   0   0   0   0   0   0   0   0   0   0   0   0   0]\n",
            " [  0   0   0   0   0   0   0   0   0   0   0   0   0   0   0   0   0   0   0   0   0   0   0   0   0   0   0   0]\n",
            " [  0   0   0   0   0   0   0   0   0   0   0   0   0   0   0   0   0   0   0   0   0   0   0   0   0   0   0   0]\n",
            " [  0   0   0   0   0   0   0   0   0   0   0   0   0   0   0   0   0   0   0   0   0   0   0   0   0   0   0   0]\n",
            " [  0   0   0   0   0   0   0   0   0   0   0   0   0   0   0   0   0   0   0   0   0   0   0   0   0   0   0   0]\n",
            " [  0   0   0   0   0   0   0   0   0   0   0   0   3  18  18  18 126 136 175  26 166 255 247 127   0   0   0   0]\n",
            " [  0   0   0   0   0   0   0   0  30  36  94 154 170 253 253 253 253 253 225 172 253 242 195  64   0   0   0   0]\n",
            " [  0   0   0   0   0   0   0  49 238 253 253 253 253 253 253 253 253 251  93  82  82  56  39   0   0   0   0   0]\n",
            " [  0   0   0   0   0   0   0  18 219 253 253 253 253 253 198 182 247 241   0   0   0   0   0   0   0   0   0   0]\n",
            " [  0   0   0   0   0   0   0   0  80 156 107 253 253 205  11   0  43 154   0   0   0   0   0   0   0   0   0   0]\n",
            " [  0   0   0   0   0   0   0   0   0  14   1 154 253  90   0   0   0   0   0   0   0   0   0   0   0   0   0   0]\n",
            " [  0   0   0   0   0   0   0   0   0   0   0 139 253 190   2   0   0   0   0   0   0   0   0   0   0   0   0   0]\n",
            " [  0   0   0   0   0   0   0   0   0   0   0  11 190 253  70   0   0   0   0   0   0   0   0   0   0   0   0   0]\n",
            " [  0   0   0   0   0   0   0   0   0   0   0   0  35 241 225 160 108   1   0   0   0   0   0   0   0   0   0   0]\n",
            " [  0   0   0   0   0   0   0   0   0   0   0   0   0  81 240 253 253 119  25   0   0   0   0   0   0   0   0   0]\n",
            " [  0   0   0   0   0   0   0   0   0   0   0   0   0   0  45 186 253 253 150  27   0   0   0   0   0   0   0   0]\n",
            " [  0   0   0   0   0   0   0   0   0   0   0   0   0   0   0  16  93 252 253 187   0   0   0   0   0   0   0   0]\n",
            " [  0   0   0   0   0   0   0   0   0   0   0   0   0   0   0   0   0 249 253 249  64   0   0   0   0   0   0   0]\n",
            " [  0   0   0   0   0   0   0   0   0   0   0   0   0   0  46 130 183 253 253 207   2   0   0   0   0   0   0   0]\n",
            " [  0   0   0   0   0   0   0   0   0   0   0   0  39 148 229 253 253 253 250 182   0   0   0   0   0   0   0   0]\n",
            " [  0   0   0   0   0   0   0   0   0   0  24 114 221 253 253 253 253 201  78   0   0   0   0   0   0   0   0   0]\n",
            " [  0   0   0   0   0   0   0   0  23  66 213 253 253 253 253 198  81   2   0   0   0   0   0   0   0   0   0   0]\n",
            " [  0   0   0   0   0   0  18 171 219 253 253 253 253 195  80   9   0   0   0   0   0   0   0   0   0   0   0   0]\n",
            " [  0   0   0   0  55 172 226 253 253 253 253 244 133  11   0   0   0   0   0   0   0   0   0   0   0   0   0   0]\n",
            " [  0   0   0   0 136 253 253 253 212 135 132  16   0   0   0   0   0   0   0   0   0   0   0   0   0   0   0   0]\n",
            " [  0   0   0   0   0   0   0   0   0   0   0   0   0   0   0   0   0   0   0   0   0   0   0   0   0   0   0   0]\n",
            " [  0   0   0   0   0   0   0   0   0   0   0   0   0   0   0   0   0   0   0   0   0   0   0   0   0   0   0   0]\n",
            " [  0   0   0   0   0   0   0   0   0   0   0   0   0   0   0   0   0   0   0   0   0   0   0   0   0   0   0   0]]\n"
          ]
        }
      ]
    },
    {
      "cell_type": "code",
      "source": [
        "X_train, X_test = X_train/255.0, X_test/255.0"
      ],
      "metadata": {
        "id": "mTsacJ5bPZ0R"
      },
      "execution_count": 12,
      "outputs": []
    },
    {
      "cell_type": "code",
      "source": [
        "from tensorflow.keras import Sequential\n",
        "from tensorflow.keras.layers import Dense, Flatten\n",
        "model = Sequential()\n",
        "\n",
        "model.add(Flatten(input_shape=(28,28)))\n",
        "model.add(Dense(32, activation='relu'))\n",
        "model.add(Dense(32, activation='relu'))\n",
        "model.add(Dense(10, activation='softmax'))"
      ],
      "metadata": {
        "id": "6xNV4Z8mP2hQ"
      },
      "execution_count": 13,
      "outputs": []
    },
    {
      "cell_type": "code",
      "source": [
        "from tensorflow.keras.utils import plot_model\n",
        "plot_model(model, to_file='model.png')"
      ],
      "metadata": {
        "colab": {
          "base_uri": "https://localhost:8080/",
          "height": 466
        },
        "id": "_N1ibvn9RIqd",
        "outputId": "5cc9127a-8f09-468a-d39e-26db048fc6ee"
      },
      "execution_count": 14,
      "outputs": [
        {
          "output_type": "execute_result",
          "data": {
            "image/png": "[encoded data removed]",
            "text/plain": [
              "<IPython.core.display.Image object>"
            ]
          },
          "metadata": {},
          "execution_count": 14
        }
      ]
    },
    {
      "cell_type": "code",
      "source": [
        "from IPython.display import SVG\n",
        "from tensorflow.keras.utils import model_to_dot\n",
        "\n",
        "SVG(model_to_dot(model).create(prog='dot', format='svg'))"
      ],
      "metadata": {
        "colab": {
          "base_uri": "https://localhost:8080/",
          "height": 620
        },
        "id": "vLbEybPFRS20",
        "outputId": "5043c5b8-487e-4971-ebb2-9c963ab0fb7a"
      },
      "execution_count": 15,
      "outputs": [
        {
          "output_type": "execute_result",
          "data": {
            "text/plain": [
              "<IPython.core.display.SVG object>"
            ],
            "image/svg+xml": "<svg height=\"449pt\" viewBox=\"0.00 0.00 177.00 337.00\" width=\"236pt\" xmlns=\"http://www.w3.org/2000/svg\" xmlns:xlink=\"http://www.w3.org/1999/xlink\">\n<g class=\"graph\" id=\"graph0\" transform=\"scale(1.3333 1.3333) rotate(0) translate(4 333)\">\n<title>G</title>\n<polygon fill=\"#ffffff\" points=\"-4,4 -4,-333 173,-333 173,4 -4,4\" stroke=\"transparent\"/>\n<!-- 139818148018512 -->\n<g class=\"node\" id=\"node1\">\n<title>139818148018512</title>\n<polygon fill=\"none\" points=\"0,-292.5 0,-328.5 169,-328.5 169,-292.5 0,-292.5\" stroke=\"#000000\"/>\n<text fill=\"#000000\" font-family=\"Times,serif\" font-size=\"14.00\" text-anchor=\"middle\" x=\"44.5\" y=\"-306.8\">flatten_input</text>\n<polyline fill=\"none\" points=\"89,-292.5 89,-328.5 \" stroke=\"#000000\"/>\n<text fill=\"#000000\" font-family=\"Times,serif\" font-size=\"14.00\" text-anchor=\"middle\" x=\"129\" y=\"-306.8\">InputLayer</text>\n</g>\n<!-- 139818148061712 -->\n<g class=\"node\" id=\"node2\">\n<title>139818148061712</title>\n<polygon fill=\"none\" points=\"30.5,-219.5 30.5,-255.5 138.5,-255.5 138.5,-219.5 30.5,-219.5\" stroke=\"#000000\"/>\n<text fill=\"#000000\" font-family=\"Times,serif\" font-size=\"14.00\" text-anchor=\"middle\" x=\"56.5\" y=\"-233.8\">flatten</text>\n<polyline fill=\"none\" points=\"82.5,-219.5 82.5,-255.5 \" stroke=\"#000000\"/>\n<text fill=\"#000000\" font-family=\"Times,serif\" font-size=\"14.00\" text-anchor=\"middle\" x=\"110.5\" y=\"-233.8\">Flatten</text>\n</g>\n<!-- 139818148018512&#45;&gt;139818148061712 -->\n<g class=\"edge\" id=\"edge1\">\n<title>139818148018512-&gt;139818148061712</title>\n<path d=\"M84.5,-292.4551C84.5,-284.3828 84.5,-274.6764 84.5,-265.6817\" fill=\"none\" stroke=\"#000000\"/>\n<polygon fill=\"#000000\" points=\"88.0001,-265.5903 84.5,-255.5904 81.0001,-265.5904 88.0001,-265.5903\" stroke=\"#000000\"/>\n</g>\n<!-- 139818148061520 -->\n<g class=\"node\" id=\"node3\">\n<title>139818148061520</title>\n<polygon fill=\"none\" points=\"34,-146.5 34,-182.5 135,-182.5 135,-146.5 34,-146.5\" stroke=\"#000000\"/>\n<text fill=\"#000000\" font-family=\"Times,serif\" font-size=\"14.00\" text-anchor=\"middle\" x=\"58.5\" y=\"-160.8\">dense</text>\n<polyline fill=\"none\" points=\"83,-146.5 83,-182.5 \" stroke=\"#000000\"/>\n<text fill=\"#000000\" font-family=\"Times,serif\" font-size=\"14.00\" text-anchor=\"middle\" x=\"109\" y=\"-160.8\">Dense</text>\n</g>\n<!-- 139818148061712&#45;&gt;139818148061520 -->\n<g class=\"edge\" id=\"edge2\">\n<title>139818148061712-&gt;139818148061520</title>\n<path d=\"M84.5,-219.4551C84.5,-211.3828 84.5,-201.6764 84.5,-192.6817\" fill=\"none\" stroke=\"#000000\"/>\n<polygon fill=\"#000000\" points=\"88.0001,-192.5903 84.5,-182.5904 81.0001,-192.5904 88.0001,-192.5903\" stroke=\"#000000\"/>\n</g>\n<!-- 139818148221200 -->\n<g class=\"node\" id=\"node4\">\n<title>139818148221200</title>\n<polygon fill=\"none\" points=\"26.5,-73.5 26.5,-109.5 142.5,-109.5 142.5,-73.5 26.5,-73.5\" stroke=\"#000000\"/>\n<text fill=\"#000000\" font-family=\"Times,serif\" font-size=\"14.00\" text-anchor=\"middle\" x=\"58.5\" y=\"-87.8\">dense_1</text>\n<polyline fill=\"none\" points=\"90.5,-73.5 90.5,-109.5 \" stroke=\"#000000\"/>\n<text fill=\"#000000\" font-family=\"Times,serif\" font-size=\"14.00\" text-anchor=\"middle\" x=\"116.5\" y=\"-87.8\">Dense</text>\n</g>\n<!-- 139818148061520&#45;&gt;139818148221200 -->\n<g class=\"edge\" id=\"edge3\">\n<title>139818148061520-&gt;139818148221200</title>\n<path d=\"M84.5,-146.4551C84.5,-138.3828 84.5,-128.6764 84.5,-119.6817\" fill=\"none\" stroke=\"#000000\"/>\n<polygon fill=\"#000000\" points=\"88.0001,-119.5903 84.5,-109.5904 81.0001,-119.5904 88.0001,-119.5903\" stroke=\"#000000\"/>\n</g>\n<!-- 139818156769168 -->\n<g class=\"node\" id=\"node5\">\n<title>139818156769168</title>\n<polygon fill=\"none\" points=\"26.5,-.5 26.5,-36.5 142.5,-36.5 142.5,-.5 26.5,-.5\" stroke=\"#000000\"/>\n<text fill=\"#000000\" font-family=\"Times,serif\" font-size=\"14.00\" text-anchor=\"middle\" x=\"58.5\" y=\"-14.8\">dense_2</text>\n<polyline fill=\"none\" points=\"90.5,-.5 90.5,-36.5 \" stroke=\"#000000\"/>\n<text fill=\"#000000\" font-family=\"Times,serif\" font-size=\"14.00\" text-anchor=\"middle\" x=\"116.5\" y=\"-14.8\">Dense</text>\n</g>\n<!-- 139818148221200&#45;&gt;139818156769168 -->\n<g class=\"edge\" id=\"edge4\">\n<title>139818148221200-&gt;139818156769168</title>\n<path d=\"M84.5,-73.4551C84.5,-65.3828 84.5,-55.6764 84.5,-46.6817\" fill=\"none\" stroke=\"#000000\"/>\n<polygon fill=\"#000000\" points=\"88.0001,-46.5903 84.5,-36.5904 81.0001,-46.5904 88.0001,-46.5903\" stroke=\"#000000\"/>\n</g>\n</g>\n</svg>"
          },
          "metadata": {},
          "execution_count": 15
        }
      ]
    },
    {
      "cell_type": "code",
      "source": [
        "print(model.summary())"
      ],
      "metadata": {
        "colab": {
          "base_uri": "https://localhost:8080/"
        },
        "id": "oWQo1j6qRfCr",
        "outputId": "3e3efb59-602f-4844-e692-62da21c05739"
      },
      "execution_count": 16,
      "outputs": [
        {
          "output_type": "stream",
          "name": "stdout",
          "text": [
            "Model: \"sequential\"\n",
            "_________________________________________________________________\n",
            " Layer (type)                Output Shape              Param #   \n",
            "=================================================================\n",
            " flatten (Flatten)           (None, 784)               0         \n",
            "                                                                 \n",
            " dense (Dense)               (None, 32)                25120     \n",
            "                                                                 \n",
            " dense_1 (Dense)             (None, 32)                1056      \n",
            "                                                                 \n",
            " dense_2 (Dense)             (None, 10)                330       \n",
            "                                                                 \n",
            "=================================================================\n",
            "Total params: 26,506\n",
            "Trainable params: 26,506\n",
            "Non-trainable params: 0\n",
            "_________________________________________________________________\n",
            "None\n"
          ]
        }
      ]
    },
    {
      "cell_type": "code",
      "source": [
        "model.compile(optimizer='adam',\n",
        "              loss='sparse_categorical_crossentropy',\n",
        "              metrics=['accuracy'])"
      ],
      "metadata": {
        "id": "_V43XoGSRllm"
      },
      "execution_count": 17,
      "outputs": []
    },
    {
      "cell_type": "code",
      "source": [
        "class accuracy99Callback(tf.keras.callbacks.Callback):\n",
        "    def on_epoch_end(self, epoch, logs={}):\n",
        "        if (logs.get('accuracy') > 0.999):\n",
        "            print(\"\\n\\nWe reached 99.9% accuracy!\\n\")\n",
        "            self.model.stop_training = True"
      ],
      "metadata": {
        "id": "W4YBGWrqRsO7"
      },
      "execution_count": 18,
      "outputs": []
    },
    {
      "cell_type": "code",
      "source": [
        "%%time\n",
        "# ~ 2 min\n",
        "model.fit(X_train, y_train, epochs=40, validation_data=(X_test, y_test), callbacks=[accuracy99Callback()])"
      ],
      "metadata": {
        "colab": {
          "base_uri": "https://localhost:8080/"
        },
        "id": "kp4eOq4ESFmq",
        "outputId": "a2f398dc-5cb0-4732-d7e2-1dd19dd2a6c5"
      },
      "execution_count": 22,
      "outputs": [
        {
          "output_type": "stream",
          "name": "stdout",
          "text": [
            "Epoch 1/40\n",
            "1875/1875 [==============================] - 8s 4ms/step - loss: 0.3286 - accuracy: 0.9025 - val_loss: 0.1985 - val_accuracy: 0.9423\n",
            "Epoch 2/40\n",
            "1875/1875 [==============================] - 5s 2ms/step - loss: 0.1597 - accuracy: 0.9525 - val_loss: 0.1437 - val_accuracy: 0.9553\n",
            "Epoch 3/40\n",
            "1875/1875 [==============================] - 5s 2ms/step - loss: 0.1246 - accuracy: 0.9625 - val_loss: 0.1366 - val_accuracy: 0.9603\n",
            "Epoch 4/40\n",
            "1875/1875 [==============================] - 6s 3ms/step - loss: 0.1055 - accuracy: 0.9688 - val_loss: 0.1190 - val_accuracy: 0.9642\n",
            "Epoch 5/40\n",
            "1875/1875 [==============================] - 6s 3ms/step - loss: 0.0923 - accuracy: 0.9720 - val_loss: 0.1104 - val_accuracy: 0.9662\n",
            "Epoch 6/40\n",
            "1875/1875 [==============================] - 5s 3ms/step - loss: 0.0826 - accuracy: 0.9744 - val_loss: 0.1251 - val_accuracy: 0.9632\n",
            "Epoch 7/40\n",
            "1875/1875 [==============================] - 5s 3ms/step - loss: 0.0750 - accuracy: 0.9766 - val_loss: 0.1237 - val_accuracy: 0.9626\n",
            "Epoch 8/40\n",
            "1875/1875 [==============================] - 5s 3ms/step - loss: 0.0667 - accuracy: 0.9788 - val_loss: 0.1161 - val_accuracy: 0.9668\n",
            "Epoch 9/40\n",
            "1875/1875 [==============================] - 5s 3ms/step - loss: 0.0626 - accuracy: 0.9804 - val_loss: 0.1111 - val_accuracy: 0.9683\n",
            "Epoch 10/40\n",
            "1875/1875 [==============================] - 5s 3ms/step - loss: 0.0571 - accuracy: 0.9822 - val_loss: 0.1075 - val_accuracy: 0.9698\n",
            "Epoch 11/40\n",
            "1875/1875 [==============================] - 5s 3ms/step - loss: 0.0521 - accuracy: 0.9835 - val_loss: 0.1135 - val_accuracy: 0.9685\n",
            "Epoch 12/40\n",
            "1875/1875 [==============================] - 5s 3ms/step - loss: 0.0483 - accuracy: 0.9840 - val_loss: 0.1179 - val_accuracy: 0.9676\n",
            "Epoch 13/40\n",
            "1875/1875 [==============================] - 5s 3ms/step - loss: 0.0450 - accuracy: 0.9850 - val_loss: 0.1145 - val_accuracy: 0.9698\n",
            "Epoch 14/40\n",
            "1875/1875 [==============================] - 5s 3ms/step - loss: 0.0428 - accuracy: 0.9861 - val_loss: 0.1181 - val_accuracy: 0.9699\n",
            "Epoch 15/40\n",
            "1875/1875 [==============================] - 5s 3ms/step - loss: 0.0402 - accuracy: 0.9868 - val_loss: 0.1250 - val_accuracy: 0.9677\n",
            "Epoch 16/40\n",
            "1875/1875 [==============================] - 5s 3ms/step - loss: 0.0371 - accuracy: 0.9877 - val_loss: 0.1298 - val_accuracy: 0.9660\n",
            "Epoch 17/40\n",
            "1875/1875 [==============================] - 5s 3ms/step - loss: 0.0360 - accuracy: 0.9883 - val_loss: 0.1217 - val_accuracy: 0.9698\n",
            "Epoch 18/40\n",
            "1875/1875 [==============================] - 5s 2ms/step - loss: 0.0316 - accuracy: 0.9892 - val_loss: 0.1235 - val_accuracy: 0.9688\n",
            "Epoch 19/40\n",
            "1875/1875 [==============================] - 5s 2ms/step - loss: 0.0326 - accuracy: 0.9895 - val_loss: 0.1356 - val_accuracy: 0.9676\n",
            "Epoch 20/40\n",
            "1875/1875 [==============================] - 5s 3ms/step - loss: 0.0295 - accuracy: 0.9904 - val_loss: 0.1362 - val_accuracy: 0.9686\n",
            "Epoch 21/40\n",
            "1875/1875 [==============================] - 5s 3ms/step - loss: 0.0289 - accuracy: 0.9904 - val_loss: 0.1354 - val_accuracy: 0.9704\n",
            "Epoch 22/40\n",
            "1875/1875 [==============================] - 5s 3ms/step - loss: 0.0273 - accuracy: 0.9907 - val_loss: 0.1421 - val_accuracy: 0.9676\n",
            "Epoch 23/40\n",
            "1875/1875 [==============================] - 5s 3ms/step - loss: 0.0255 - accuracy: 0.9917 - val_loss: 0.1427 - val_accuracy: 0.9698\n",
            "Epoch 24/40\n",
            "1875/1875 [==============================] - 5s 2ms/step - loss: 0.0252 - accuracy: 0.9915 - val_loss: 0.1381 - val_accuracy: 0.9692\n",
            "Epoch 25/40\n",
            "1875/1875 [==============================] - 5s 3ms/step - loss: 0.0225 - accuracy: 0.9922 - val_loss: 0.1630 - val_accuracy: 0.9677\n",
            "Epoch 26/40\n",
            "1875/1875 [==============================] - 5s 3ms/step - loss: 0.0212 - accuracy: 0.9930 - val_loss: 0.1603 - val_accuracy: 0.9682\n",
            "Epoch 27/40\n",
            "1875/1875 [==============================] - 5s 2ms/step - loss: 0.0222 - accuracy: 0.9923 - val_loss: 0.1902 - val_accuracy: 0.9642\n",
            "Epoch 28/40\n",
            "1875/1875 [==============================] - 5s 2ms/step - loss: 0.0213 - accuracy: 0.9925 - val_loss: 0.1547 - val_accuracy: 0.9695\n",
            "Epoch 29/40\n",
            "1875/1875 [==============================] - 5s 2ms/step - loss: 0.0194 - accuracy: 0.9936 - val_loss: 0.1568 - val_accuracy: 0.9679\n",
            "Epoch 30/40\n",
            "1875/1875 [==============================] - 5s 3ms/step - loss: 0.0172 - accuracy: 0.9941 - val_loss: 0.1919 - val_accuracy: 0.9640\n",
            "Epoch 31/40\n",
            "1875/1875 [==============================] - 5s 2ms/step - loss: 0.0193 - accuracy: 0.9937 - val_loss: 0.1638 - val_accuracy: 0.9695\n",
            "Epoch 32/40\n",
            "1875/1875 [==============================] - 5s 2ms/step - loss: 0.0165 - accuracy: 0.9944 - val_loss: 0.1623 - val_accuracy: 0.9691\n",
            "Epoch 33/40\n",
            "1875/1875 [==============================] - 5s 2ms/step - loss: 0.0183 - accuracy: 0.9938 - val_loss: 0.1839 - val_accuracy: 0.9698\n",
            "Epoch 34/40\n",
            "1875/1875 [==============================] - 5s 3ms/step - loss: 0.0161 - accuracy: 0.9944 - val_loss: 0.1724 - val_accuracy: 0.9698\n",
            "Epoch 35/40\n",
            "1875/1875 [==============================] - 5s 2ms/step - loss: 0.0166 - accuracy: 0.9948 - val_loss: 0.1741 - val_accuracy: 0.9703\n",
            "Epoch 36/40\n",
            "1875/1875 [==============================] - 5s 3ms/step - loss: 0.0147 - accuracy: 0.9948 - val_loss: 0.1829 - val_accuracy: 0.9681\n",
            "Epoch 37/40\n",
            "1875/1875 [==============================] - 5s 3ms/step - loss: 0.0147 - accuracy: 0.9947 - val_loss: 0.1821 - val_accuracy: 0.9688\n",
            "Epoch 38/40\n",
            "1875/1875 [==============================] - 5s 3ms/step - loss: 0.0127 - accuracy: 0.9957 - val_loss: 0.1942 - val_accuracy: 0.9661\n",
            "Epoch 39/40\n",
            "1875/1875 [==============================] - 4s 2ms/step - loss: 0.0150 - accuracy: 0.9948 - val_loss: 0.2076 - val_accuracy: 0.9673\n",
            "Epoch 40/40\n",
            "1875/1875 [==============================] - 5s 2ms/step - loss: 0.0130 - accuracy: 0.9955 - val_loss: 0.2095 - val_accuracy: 0.9650\n",
            "CPU times: user 3min 38s, sys: 15 s, total: 3min 53s\n",
            "Wall time: 3min 19s\n"
          ]
        },
        {
          "output_type": "execute_result",
          "data": {
            "text/plain": [
              "<keras.callbacks.History at 0x7f29eed94710>"
            ]
          },
          "metadata": {},
          "execution_count": 22
        }
      ]
    },
    {
      "cell_type": "code",
      "source": [
        "print(model.history.history)"
      ],
      "metadata": {
        "colab": {
          "base_uri": "https://localhost:8080/"
        },
        "id": "3wBBmToeSPOy",
        "outputId": "907c7cbe-a92c-497c-fa97-ef3962368a2a"
      },
      "execution_count": 23,
      "outputs": [
        {
          "output_type": "stream",
          "name": "stdout",
          "text": [
            "{'loss': [0.3285760283470154, 0.15974299609661102, 0.12457966804504395, 0.10548319667577744, 0.09227658808231354, 0.08257845044136047, 0.07499884068965912, 0.06668727099895477, 0.06259454041719437, 0.05706063285470009, 0.052123285830020905, 0.04834911599755287, 0.04500651732087135, 0.042800936847925186, 0.040216121822595596, 0.03713555261492729, 0.03604951128363609, 0.031649500131607056, 0.032577477395534515, 0.029519665986299515, 0.028946956619620323, 0.02727825939655304, 0.02545575611293316, 0.02524220384657383, 0.022502349689602852, 0.021231360733509064, 0.02221519500017166, 0.02128508687019348, 0.019433937966823578, 0.017195824533700943, 0.019342679530382156, 0.0164942629635334, 0.018272805958986282, 0.016062069684267044, 0.016587667167186737, 0.014710353687405586, 0.014684144407510757, 0.012744136154651642, 0.015023906715214252, 0.012995811179280281], 'accuracy': [0.9024999737739563, 0.9524666666984558, 0.9624833464622498, 0.9687666893005371, 0.9719666838645935, 0.9743833541870117, 0.9766499996185303, 0.9788166880607605, 0.980400025844574, 0.9821666479110718, 0.9835000038146973, 0.984000027179718, 0.9849666953086853, 0.9861000180244446, 0.9868166446685791, 0.9877499938011169, 0.9883166551589966, 0.989216685295105, 0.989466667175293, 0.9903833270072937, 0.9904166460037231, 0.9906833171844482, 0.9916666746139526, 0.9915000200271606, 0.9922000169754028, 0.9930333495140076, 0.9922999739646912, 0.9925333261489868, 0.9935833215713501, 0.9940999746322632, 0.9936666488647461, 0.9944333434104919, 0.9938333630561829, 0.994350016117096, 0.994783341884613, 0.9948499798774719, 0.9947333335876465, 0.9957000017166138, 0.9947999715805054, 0.9955166578292847], 'val_loss': [0.198509082198143, 0.1436566710472107, 0.13656990230083466, 0.11898436397314072, 0.11044963449239731, 0.12509925663471222, 0.1237286627292633, 0.11609901487827301, 0.11114169657230377, 0.10751243680715561, 0.11347020417451859, 0.11790525913238525, 0.11453883349895477, 0.11807635426521301, 0.12495815753936768, 0.12982559204101562, 0.12173852324485779, 0.12354268878698349, 0.1356395184993744, 0.1362290382385254, 0.1354219615459442, 0.14207272231578827, 0.14273060858249664, 0.13806158304214478, 0.16296899318695068, 0.16025297343730927, 0.19021788239479065, 0.1546824872493744, 0.15675196051597595, 0.1918836086988449, 0.16382022202014923, 0.16229577362537384, 0.1838892549276352, 0.1723776012659073, 0.17411267757415771, 0.18294386565685272, 0.182123601436615, 0.1941748708486557, 0.2076488733291626, 0.20952968299388885], 'val_accuracy': [0.942300021648407, 0.955299973487854, 0.9603000283241272, 0.9642000198364258, 0.9661999940872192, 0.9631999731063843, 0.9625999927520752, 0.9667999744415283, 0.9682999849319458, 0.9697999954223633, 0.968500018119812, 0.9675999879837036, 0.9697999954223633, 0.9699000120162964, 0.9677000045776367, 0.9660000205039978, 0.9697999954223633, 0.9688000082969666, 0.9675999879837036, 0.9685999751091003, 0.9703999757766724, 0.9675999879837036, 0.9697999954223633, 0.9692000150680542, 0.9677000045776367, 0.9682000279426575, 0.9642000198364258, 0.9695000052452087, 0.9678999781608582, 0.9639999866485596, 0.9695000052452087, 0.9690999984741211, 0.9697999954223633, 0.9697999954223633, 0.970300018787384, 0.9681000113487244, 0.9688000082969666, 0.9660999774932861, 0.9672999978065491, 0.9649999737739563]}\n"
          ]
        }
      ]
    },
    {
      "cell_type": "code",
      "source": [
        "plt.plot(model.history.history['accuracy'], 'r-')\n",
        "plt.plot(model.history.history['val_accuracy'], 'g:')"
      ],
      "metadata": {
        "colab": {
          "base_uri": "https://localhost:8080/",
          "height": 286
        },
        "id": "ca96r8b-UhqE",
        "outputId": "3de00a18-280c-4bac-97fd-5038200964c0"
      },
      "execution_count": 24,
      "outputs": [
        {
          "output_type": "execute_result",
          "data": {
            "text/plain": [
              "[<matplotlib.lines.Line2D at 0x7f29eb4de3d0>]"
            ]
          },
          "metadata": {},
          "execution_count": 24
        },
        {
          "output_type": "display_data",
          "data": {
            "text/plain": [
              "<Figure size 432x288 with 1 Axes>"
            ],
            "image/png": "[encoded data removed]"
          },
          "metadata": {
            "needs_background": "light"
          }
        }
      ]
    },
    {
      "cell_type": "code",
      "source": [
        "plt.plot(model.history.history['loss'])\n",
        "plt.plot(model.history.history['val_loss'])\n",
        "plt.title('Model loss')\n",
        "plt.ylabel('Loss')\n",
        "plt.xlabel('Epoch')\n",
        "plt.legend(['Train', 'Test'], loc='upper left')\n",
        "plt.show()"
      ],
      "metadata": {
        "colab": {
          "base_uri": "https://localhost:8080/",
          "height": 295
        },
        "id": "uIjKcpD8UoQc",
        "outputId": "7469b02a-146b-47af-842b-a1cd0992fdd7"
      },
      "execution_count": 26,
      "outputs": [
        {
          "output_type": "display_data",
          "data": {
            "text/plain": [
              "<Figure size 432x288 with 1 Axes>"
            ],
            "image/png": "[encoded data removed]"
          },
          "metadata": {
            "needs_background": "light"
          }
        }
      ]
    },
    {
      "cell_type": "code",
      "source": [
        "inp = X_test[0].reshape((1, 28, 28))\n",
        "res = model.predict(inp)"
      ],
      "metadata": {
        "colab": {
          "base_uri": "https://localhost:8080/"
        },
        "id": "tF14cZHaU3Ky",
        "outputId": "27a4b6df-83c8-4916-d71e-7029b67203ff"
      },
      "execution_count": 28,
      "outputs": [
        {
          "output_type": "stream",
          "name": "stdout",
          "text": [
            "1/1 [==============================] - 0s 89ms/step\n"
          ]
        }
      ]
    },
    {
      "cell_type": "code",
      "source": [],
      "metadata": {
        "id": "ctYNDr63VMf5"
      },
      "execution_count": null,
      "outputs": []
    }
  ]
}