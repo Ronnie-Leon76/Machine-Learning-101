{
  "nbformat": 4,
  "nbformat_minor": 0,
  "metadata": {
    "colab": {
      "provenance": [],
      "authorship_tag": "ABX9TyNHnRMbese5LoG1GANNh2Rb",
      "include_colab_link": true
    },
    "kernelspec": {
      "name": "python3",
      "display_name": "Python 3"
    },
    "language_info": {
      "name": "python"
    }
  },
  "cells": [
    {
      "cell_type": "markdown",
      "metadata": {
        "id": "view-in-github",
        "colab_type": "text"
      },
      "source": [
        "<a href=\"https://colab.research.google.com/github/Ronnie-Leon76/Machine-Learning-101/blob/main/Image_Classifier_DNN.ipynb\" target=\"_parent\"><img src=\"https://colab.research.google.com/assets/colab-badge.svg\" alt=\"Open In Colab\"/></a>"
      ]
    },
    {
      "cell_type": "code",
      "execution_count": 1,
      "metadata": {
        "id": "WhOT9bj6tA8H"
      },
      "outputs": [],
      "source": [
        "import numpy as np\n",
        "import matplotlib.pyplot as plt\n",
        "import random\n",
        "import os\n",
        "import PIL\n",
        "\n",
        "from keras.utils import np_utils                          # tools for creating one-hot encoding\n",
        "from keras.models import Sequential                       # Type of model we wish to use\n",
        "from keras.layers.core import Dense, Dropout, Activation  # Types of layers we wish to use\n",
        "\n",
        "from skimage.transform import resize                      # Used to scale/resize image arrays\n",
        "\n",
        "from sklearn.metrics import confusion_matrix              # Used to quickly make confusion matrix"
      ]
    },
    {
      "cell_type": "code",
      "source": [
        "DATASET_PATH = \"/content/Dataset\"\n",
        "# Desired resolution of images\n",
        "TARGET_WIDTH = 28\n",
        "TARGET_HEIGHT = 28\n",
        "\n",
        "# Invert image (dark backgrounds can sometimes improve accuracy)\n",
        "INVERT = False\n",
        "\n",
        "# Set aside 20% for validation and 20% for test\n",
        "VAL_RATIO = 0.2\n",
        "TEST_RATIO = 0.2\n",
        "\n",
        "# You are welcome to change the seed to try a different validation set split\n",
        "random.seed(42)"
      ],
      "metadata": {
        "id": "EOvqyXgYo465"
      },
      "execution_count": 4,
      "outputs": []
    },
    {
      "cell_type": "code",
      "source": [
        "labels = []\n",
        "y_all = []    # Lowercase 'y' - 1D vector of the ground labels (n)\n",
        "X_all = []    # Uppercase 'X' - 3D array of all image samples (n x width x height)\n",
        "\n",
        "# find the directories in the dataset folder \n",
        "for label in os.listdir(DATASET_PATH):\n",
        "  class_dir = os.path.join(DATASET_PATH, label)\n",
        "  if os.path.isdir(class_dir) and label != \".ipynb_checkpoints\":\n",
        "    labels.append(label)\n",
        "\n",
        "     # Go through each image in the folder\n",
        "    for i, file in enumerate(os.listdir(class_dir)):\n",
        "\n",
        "      # Skip the Jupyter Notebook checkpoints folder that sometimes gets added\n",
        "      if file != \".ipynb_checkpoints\":\n",
        "\n",
        "        # Open image and convert to grayscale\n",
        "        file_path = os.path.join(class_dir, file)\n",
        "        img = PIL.Image.open(file_path).convert('L')\n",
        "\n",
        "        # Convert the image to a Numpy array, optionally invern, and append to X\n",
        "        img_array = np.asarray(img)\n",
        "        if INVERT:\n",
        "          img_array = 255 - img_array\n",
        "        X_all.append(img_array)\n",
        "\n",
        "        # Add label to the y array\n",
        "        y_all.append(label)\n",
        "\n",
        "    # Show how many images we loaded\n",
        "    print(\"Added\", str(i + 1), \"images from\", label)\n",
        "\n",
        "\n",
        "# Calculate total number of samples\n",
        "num_samples = len(X_all)\n",
        "\n",
        "# Sort the labels list by alphabetical order\n",
        "labels = sorted(labels)\n",
        "\n",
        "# Print out labels and number of samples\n",
        "print(labels)\n",
        "print(\"Number of samples:\", num_samples)\n",
        "  "
      ],
      "metadata": {
        "colab": {
          "base_uri": "https://localhost:8080/"
        },
        "id": "HPxRtXmJpb6b",
        "outputId": "a07f417a-2de5-4532-8e4a-c2c047299bfe"
      },
      "execution_count": 5,
      "outputs": [
        {
          "output_type": "stream",
          "name": "stdout",
          "text": [
            "Added 50 images from capacitor\n",
            "Added 50 images from background\n",
            "Added 50 images from resistor\n",
            "Added 50 images from diode\n",
            "Added 50 images from led\n",
            "['background', 'capacitor', 'diode', 'led', 'resistor']\n",
            "Number of samples: 250\n"
          ]
        }
      ]
    },
    {
      "cell_type": "code",
      "source": [
        "### Convert labels to numbers\n",
        "\n",
        "# Show the labels before the conversion\n",
        "print(\"Before:\", y_all)\n",
        "\n",
        "# Convert each label to its index in the labels\n",
        "y_out = []\n",
        "for i, label in enumerate(y_all):\n",
        "  y_out.append(labels.index(label))\n",
        "y_all = y_out\n",
        "\n",
        "# Show the labels after the conversion\n",
        "print(\"After:\", y_all)"
      ],
      "metadata": {
        "colab": {
          "base_uri": "https://localhost:8080/"
        },
        "id": "xZB5ldoCud8_",
        "outputId": "9922a08d-3499-4095-9d97-9a7fd0290cdb"
      },
      "execution_count": 6,
      "outputs": [
        {
          "output_type": "stream",
          "name": "stdout",
          "text": [
            "Before: ['capacitor', 'capacitor', 'capacitor', 'capacitor', 'capacitor', 'capacitor', 'capacitor', 'capacitor', 'capacitor', 'capacitor', 'capacitor', 'capacitor', 'capacitor', 'capacitor', 'capacitor', 'capacitor', 'capacitor', 'capacitor', 'capacitor', 'capacitor', 'capacitor', 'capacitor', 'capacitor', 'capacitor', 'capacitor', 'capacitor', 'capacitor', 'capacitor', 'capacitor', 'capacitor', 'capacitor', 'capacitor', 'capacitor', 'capacitor', 'capacitor', 'capacitor', 'capacitor', 'capacitor', 'capacitor', 'capacitor', 'capacitor', 'capacitor', 'capacitor', 'capacitor', 'capacitor', 'capacitor', 'capacitor', 'capacitor', 'capacitor', 'capacitor', 'background', 'background', 'background', 'background', 'background', 'background', 'background', 'background', 'background', 'background', 'background', 'background', 'background', 'background', 'background', 'background', 'background', 'background', 'background', 'background', 'background', 'background', 'background', 'background', 'background', 'background', 'background', 'background', 'background', 'background', 'background', 'background', 'background', 'background', 'background', 'background', 'background', 'background', 'background', 'background', 'background', 'background', 'background', 'background', 'background', 'background', 'background', 'background', 'background', 'background', 'resistor', 'resistor', 'resistor', 'resistor', 'resistor', 'resistor', 'resistor', 'resistor', 'resistor', 'resistor', 'resistor', 'resistor', 'resistor', 'resistor', 'resistor', 'resistor', 'resistor', 'resistor', 'resistor', 'resistor', 'resistor', 'resistor', 'resistor', 'resistor', 'resistor', 'resistor', 'resistor', 'resistor', 'resistor', 'resistor', 'resistor', 'resistor', 'resistor', 'resistor', 'resistor', 'resistor', 'resistor', 'resistor', 'resistor', 'resistor', 'resistor', 'resistor', 'resistor', 'resistor', 'resistor', 'resistor', 'resistor', 'resistor', 'resistor', 'resistor', 'diode', 'diode', 'diode', 'diode', 'diode', 'diode', 'diode', 'diode', 'diode', 'diode', 'diode', 'diode', 'diode', 'diode', 'diode', 'diode', 'diode', 'diode', 'diode', 'diode', 'diode', 'diode', 'diode', 'diode', 'diode', 'diode', 'diode', 'diode', 'diode', 'diode', 'diode', 'diode', 'diode', 'diode', 'diode', 'diode', 'diode', 'diode', 'diode', 'diode', 'diode', 'diode', 'diode', 'diode', 'diode', 'diode', 'diode', 'diode', 'diode', 'diode', 'led', 'led', 'led', 'led', 'led', 'led', 'led', 'led', 'led', 'led', 'led', 'led', 'led', 'led', 'led', 'led', 'led', 'led', 'led', 'led', 'led', 'led', 'led', 'led', 'led', 'led', 'led', 'led', 'led', 'led', 'led', 'led', 'led', 'led', 'led', 'led', 'led', 'led', 'led', 'led', 'led', 'led', 'led', 'led', 'led', 'led', 'led', 'led', 'led', 'led']\n",
            "After: [1, 1, 1, 1, 1, 1, 1, 1, 1, 1, 1, 1, 1, 1, 1, 1, 1, 1, 1, 1, 1, 1, 1, 1, 1, 1, 1, 1, 1, 1, 1, 1, 1, 1, 1, 1, 1, 1, 1, 1, 1, 1, 1, 1, 1, 1, 1, 1, 1, 1, 0, 0, 0, 0, 0, 0, 0, 0, 0, 0, 0, 0, 0, 0, 0, 0, 0, 0, 0, 0, 0, 0, 0, 0, 0, 0, 0, 0, 0, 0, 0, 0, 0, 0, 0, 0, 0, 0, 0, 0, 0, 0, 0, 0, 0, 0, 0, 0, 0, 0, 4, 4, 4, 4, 4, 4, 4, 4, 4, 4, 4, 4, 4, 4, 4, 4, 4, 4, 4, 4, 4, 4, 4, 4, 4, 4, 4, 4, 4, 4, 4, 4, 4, 4, 4, 4, 4, 4, 4, 4, 4, 4, 4, 4, 4, 4, 4, 4, 4, 4, 2, 2, 2, 2, 2, 2, 2, 2, 2, 2, 2, 2, 2, 2, 2, 2, 2, 2, 2, 2, 2, 2, 2, 2, 2, 2, 2, 2, 2, 2, 2, 2, 2, 2, 2, 2, 2, 2, 2, 2, 2, 2, 2, 2, 2, 2, 2, 2, 2, 2, 3, 3, 3, 3, 3, 3, 3, 3, 3, 3, 3, 3, 3, 3, 3, 3, 3, 3, 3, 3, 3, 3, 3, 3, 3, 3, 3, 3, 3, 3, 3, 3, 3, 3, 3, 3, 3, 3, 3, 3, 3, 3, 3, 3, 3, 3, 3, 3, 3, 3]\n"
          ]
        }
      ]
    },
    {
      "cell_type": "code",
      "source": [
        "### Shuffle samples and labels together, divide into test, validation, and training sets\n",
        "\n",
        "# Shuffle samples and associated labels together\n",
        "X_y = list(zip(X_all, y_all))\n",
        "random.shuffle(X_y)\n",
        "X_all, y_all = zip(*X_y)\n",
        "\n",
        "# Calculate number of validation and test samples to put aside (round down)\n",
        "num_samples_test = int(TEST_RATIO * num_samples)\n",
        "num_samples_val = int(VAL_RATIO * num_samples)\n",
        "\n",
        "# The first `num_samples_test` samples of the shuffled list becomes the test set\n",
        "X_test = X_all[:num_samples_test]\n",
        "y_test = y_all[:num_samples_test]\n",
        "\n",
        "# The next `num_samples_val` samples of the shuffled list becomes the validation set\n",
        "X_val = X_all[num_samples_test:(num_samples_test + num_samples_val)]\n",
        "y_val = y_all[num_samples_test:(num_samples_test + num_samples_val)]\n",
        "\n",
        "# The remaining samples become the training set\n",
        "X_train = X_all[(num_samples_test + num_samples_val):]\n",
        "y_train = y_all[(num_samples_test + num_samples_val):]\n",
        "\n",
        "# Remember the number of samples in the test set\n",
        "num_samples_train = len(X_train)\n",
        "\n",
        "# Print out the number of test, validation, and training samples\n",
        "print(\"Number of test samples:\", num_samples_test)\n",
        "print(\"Number of validation samples:\", num_samples_val)\n",
        "print(\"Number of training samples:\", num_samples_train)"
      ],
      "metadata": {
        "colab": {
          "base_uri": "https://localhost:8080/"
        },
        "id": "wUxf5QeNvKTs",
        "outputId": "22f3bf87-8439-4fdd-f56c-a06c970651da"
      },
      "execution_count": 7,
      "outputs": [
        {
          "output_type": "stream",
          "name": "stdout",
          "text": [
            "Number of test samples: 50\n",
            "Number of validation samples: 50\n",
            "Number of training samples: 150\n"
          ]
        }
      ]
    },
    {
      "cell_type": "code",
      "source": [
        "### View one of the training samples\n",
        "\n",
        "# Chose which sample you want to view\n",
        "idx = 0\n",
        "\n",
        "# Print out label (number and string) and part of the array\n",
        "print(\"Label: \" + str(y_train[idx]) + \" (\" + labels[y_train[idx]] + \")\")\n",
        "print(X_train[idx])\n",
        "\n",
        "# Display image from array\n",
        "plt.imshow(X_train[idx], cmap='gray', vmin=0, vmax=255)"
      ],
      "metadata": {
        "colab": {
          "base_uri": "https://localhost:8080/",
          "height": 424
        },
        "id": "vAF9ew8wwgBR",
        "outputId": "d20f40ec-a7ba-4c23-a1ee-cde67d96c5b0"
      },
      "execution_count": 8,
      "outputs": [
        {
          "output_type": "stream",
          "name": "stdout",
          "text": [
            "Label: 4 (resistor)\n",
            "[[155 155 154 ... 155 155 155]\n",
            " [154 154 154 ... 154 154 154]\n",
            " [152 154 154 ... 157 154 154]\n",
            " ...\n",
            " [132 132 132 ... 157 157 160]\n",
            " [132 132 132 ... 157 157 160]\n",
            " [132 132 132 ... 157 157 157]]\n"
          ]
        },
        {
          "output_type": "execute_result",
          "data": {
            "text/plain": [
              "<matplotlib.image.AxesImage at 0x7f2c57e2ec50>"
            ]
          },
          "metadata": {},
          "execution_count": 8
        },
        {
          "output_type": "display_data",
          "data": {
            "text/plain": [
              "<Figure size 432x288 with 1 Axes>"
            ],
            "image/png": "[encoded data removed]"
          },
          "metadata": {
            "needs_background": "light"
          }
        }
      ]
    },
    {
      "cell_type": "code",
      "source": [
        "### Function to resize list of images\n",
        "def resize_images(images, width, height, anti_aliasing=True):\n",
        "  \"\"\"\n",
        "  Prove a list of Numpy arrays (in images parameter) to have them all resized to desired height and\n",
        "  width. Returns the list of newly resized image arrays.\n",
        "\n",
        "  NOTE: skimage resize returns *normalized* image arrays (values between 0..1)\n",
        "  \"\"\"\n",
        "  X_out = []\n",
        "  for i, img in enumerate(images):\n",
        "    X_out.append(resize(img, (height, width), anti_aliasing=anti_aliasing))\n",
        "  return X_out"
      ],
      "metadata": {
        "id": "FkqbSUEhw0z3"
      },
      "execution_count": 9,
      "outputs": []
    },
    {
      "cell_type": "code",
      "source": [
        "### Scale/crop images\n",
        "\n",
        "# Resize (scale) all images in the training set\n",
        "X_train = resize_images(X_train, TARGET_WIDTH, TARGET_HEIGHT)\n",
        "\n",
        "# Resize (scale) all images in the validation set\n",
        "X_val = resize_images(X_val, TARGET_WIDTH, TARGET_HEIGHT)\n",
        "\n",
        "# Resize (scale) all images in the test set\n",
        "X_test = resize_images(X_test, TARGET_WIDTH, TARGET_HEIGHT)"
      ],
      "metadata": {
        "id": "Pu5IpExqxhh2"
      },
      "execution_count": 10,
      "outputs": []
    },
    {
      "cell_type": "code",
      "source": [
        "### View training sample again (after they all have been scaled)\n",
        "\n",
        "# Chose which sample you want to view\n",
        "idx = 0\n",
        "\n",
        "# Print out label (numbe and string) and part of the array\n",
        "print(\"Label: \" + str(y_train[idx]) + \" (\" + labels[y_train[idx]] + \")\")\n",
        "print(\"First row:\", X_train[idx][:1,:])\n",
        "\n",
        "# Display image from array (note that images have been normalized)\n",
        "plt.imshow(X_train[idx], cmap='gray', vmin=0, vmax=1)"
      ],
      "metadata": {
        "colab": {
          "base_uri": "https://localhost:8080/",
          "height": 387
        },
        "id": "_4aLsblnxs0d",
        "outputId": "18a867d9-e370-48cd-97b1-dfd1cb4e2503"
      },
      "execution_count": 11,
      "outputs": [
        {
          "output_type": "stream",
          "name": "stdout",
          "text": [
            "Label: 4 (resistor)\n",
            "First row: [[0.59607843 0.59355742 0.58515406 0.58669468 0.59193677 0.6\n",
            "  0.60392157 0.60784314 0.61176471 0.61568627 0.61568627 0.61568627\n",
            "  0.61568627 0.61568627 0.61568627 0.61568627 0.61568627 0.61568627\n",
            "  0.61568627 0.62352941 0.62352941 0.61568627 0.61960784 0.61568627\n",
            "  0.61372549 0.61176471 0.61066427 0.60542217]]\n"
          ]
        },
        {
          "output_type": "execute_result",
          "data": {
            "text/plain": [
              "<matplotlib.image.AxesImage at 0x7f2c54f1bfd0>"
            ]
          },
          "metadata": {},
          "execution_count": 11
        },
        {
          "output_type": "display_data",
          "data": {
            "text/plain": [
              "<Figure size 432x288 with 1 Axes>"
            ],
            "image/png": "[encoded data removed]"
          },
          "metadata": {
            "needs_background": "light"
          }
        }
      ]
    },
    {
      "cell_type": "code",
      "source": [
        "### Convert list of samples and labels into Numpy arrays\n",
        "\n",
        "# Training set\n",
        "X_train = np.asarray(X_train)\n",
        "y_train = np.asarray(y_train)\n",
        "\n",
        "# Validation set\n",
        "X_val = np.asarray(X_val)\n",
        "y_val = np.asarray(y_val)\n",
        "\n",
        "# Test set\n",
        "X_test = np.asarray(X_test)\n",
        "y_test = np.asarray(y_test)\n",
        "\n",
        "# Print out the new Numpy array shapes (always a good idea to check the shapes!)\n",
        "print(\"Training X:\", X_train.shape)\n",
        "print(\"Training y:\", y_train.shape)\n",
        "print(\"Validation X:\", X_val.shape)\n",
        "print(\"Validation y:\", y_val.shape)\n",
        "print(\"Test X:\", X_test.shape)\n",
        "print(\"Test y:\", y_test.shape)"
      ],
      "metadata": {
        "colab": {
          "base_uri": "https://localhost:8080/"
        },
        "id": "lFIRNTUfx4FM",
        "outputId": "f972943e-7a7d-419a-a9c7-d37679598652"
      },
      "execution_count": 12,
      "outputs": [
        {
          "output_type": "stream",
          "name": "stdout",
          "text": [
            "Training X: (150, 28, 28)\n",
            "Training y: (150,)\n",
            "Validation X: (50, 28, 28)\n",
            "Validation y: (50,)\n",
            "Test X: (50, 28, 28)\n",
            "Test y: (50,)\n"
          ]
        }
      ]
    },
    {
      "cell_type": "code",
      "source": [
        "### Flatten each image to a 1D vector (DNN requires 1D input)\n",
        "\n",
        "# Compute length of 1D array that we will flatten each image to\n",
        "len_vector = TARGET_WIDTH * TARGET_WIDTH\n",
        "\n",
        "# Flatten matricies to vectors\n",
        "X_train = X_train.reshape(num_samples_train, len_vector)\n",
        "X_val = X_val.reshape(num_samples_val, len_vector)\n",
        "X_test = X_test.reshape(num_samples_test, len_vector)\n",
        "\n",
        "# Determine the input shape for our Keras model (must be tuple)\n",
        "input_shape = (X_train.shape[1],)\n",
        "\n",
        "# Print out shapes\n",
        "print(\"X train:\", X_train.shape)\n",
        "print(\"y train:\", y_train.shape)\n",
        "print(\"X val:\", X_val.shape)\n",
        "print(\"y val:\", y_val.shape)\n",
        "print(\"X test:\", X_test.shape)\n",
        "print(\"y test:\", y_test.shape)\n",
        "print(\"Input tensor shape:\", input_shape)"
      ],
      "metadata": {
        "colab": {
          "base_uri": "https://localhost:8080/"
        },
        "id": "v0s3YABCyQ7T",
        "outputId": "46a4165b-955f-4b50-cdf0-956b5a427a50"
      },
      "execution_count": 13,
      "outputs": [
        {
          "output_type": "stream",
          "name": "stdout",
          "text": [
            "X train: (150, 784)\n",
            "y train: (150,)\n",
            "X val: (50, 784)\n",
            "y val: (50,)\n",
            "X test: (50, 784)\n",
            "y test: (50,)\n",
            "Input tensor shape: (784,)\n"
          ]
        }
      ]
    },
    {
      "cell_type": "code",
      "source": [
        "### Convert labels (integers) to one-hot encoding\n",
        "\n",
        "# Get number of classes\n",
        "num_classes = len(labels)\n",
        "\n",
        "# Use Keras's np_utils to create one-hot encoding (note the capital 'Y' - 2D array)\n",
        "Y_train = np_utils.to_categorical(y_train, num_classes)\n",
        "Y_val = np_utils.to_categorical(y_val, num_classes)\n",
        "Y_test = np_utils.to_categorical(y_test, num_classes)\n",
        "\n",
        "# Print out shapes (capital 'Y' is our one-hot matrix!)\n",
        "print(\"Y train:\", Y_train.shape)\n",
        "print(\"Y val:\", Y_val.shape)\n",
        "print(\"Y test:\", Y_test.shape)\n",
        "\n",
        "# Print out a few examples from training set\n",
        "for i in range(10):\n",
        "  print(\"Label: \" + str(y_train[i]) + \" | One-hot:\", Y_train[i])"
      ],
      "metadata": {
        "colab": {
          "base_uri": "https://localhost:8080/"
        },
        "id": "P4F3vYOby5Ot",
        "outputId": "525e3c12-e334-4545-f831-1e918bd435e3"
      },
      "execution_count": 14,
      "outputs": [
        {
          "output_type": "stream",
          "name": "stdout",
          "text": [
            "Y train: (150, 5)\n",
            "Y val: (50, 5)\n",
            "Y test: (50, 5)\n",
            "Label: 4 | One-hot: [0. 0. 0. 0. 1.]\n",
            "Label: 4 | One-hot: [0. 0. 0. 0. 1.]\n",
            "Label: 3 | One-hot: [0. 0. 0. 1. 0.]\n",
            "Label: 3 | One-hot: [0. 0. 0. 1. 0.]\n",
            "Label: 3 | One-hot: [0. 0. 0. 1. 0.]\n",
            "Label: 1 | One-hot: [0. 1. 0. 0. 0.]\n",
            "Label: 4 | One-hot: [0. 0. 0. 0. 1.]\n",
            "Label: 2 | One-hot: [0. 0. 1. 0. 0.]\n",
            "Label: 4 | One-hot: [0. 0. 0. 0. 1.]\n",
            "Label: 1 | One-hot: [0. 1. 0. 0. 0.]\n"
          ]
        }
      ]
    },
    {
      "cell_type": "code",
      "source": [
        "### Construct Keras model\n",
        "\n",
        "# A sequential model is a linear stack of layers\n",
        "model = Sequential()\n",
        "\n",
        "# First layer: fully-connected with relu activation\n",
        "model.add(Dense(64, input_shape=input_shape))\n",
        "model.add(Activation('relu'))\n",
        "model.add(Dropout(0.25))\n",
        "\n",
        "# Second layer: fully-connected with relu activation\n",
        "model.add(Dense(64))   # Input shape is determined automatically from previous layer\n",
        "model.add(Activation('relu'))\n",
        "model.add(Dropout(0.25))\n",
        "\n",
        "# Third layer: 10 nodes, one for each class, and softmax activation\n",
        "model.add(Dense(num_classes))\n",
        "model.add(Activation('softmax'))\n",
        "\n",
        "# Configure the model's training settings\n",
        "model.compile(loss='categorical_crossentropy', optimizer='adam', metrics=['acc'])\n",
        "\n",
        "# Print out model summary\n",
        "print(model.summary())"
      ],
      "metadata": {
        "colab": {
          "base_uri": "https://localhost:8080/"
        },
        "id": "bifUCI0IzKGJ",
        "outputId": "1ef7921a-3eb2-4faa-80f8-9d5a084a450f"
      },
      "execution_count": 15,
      "outputs": [
        {
          "output_type": "stream",
          "name": "stdout",
          "text": [
            "Model: \"sequential\"\n",
            "_________________________________________________________________\n",
            " Layer (type)                Output Shape              Param #   \n",
            "=================================================================\n",
            " dense (Dense)               (None, 64)                50240     \n",
            "                                                                 \n",
            " activation (Activation)     (None, 64)                0         \n",
            "                                                                 \n",
            " dropout (Dropout)           (None, 64)                0         \n",
            "                                                                 \n",
            " dense_1 (Dense)             (None, 64)                4160      \n",
            "                                                                 \n",
            " activation_1 (Activation)   (None, 64)                0         \n",
            "                                                                 \n",
            " dropout_1 (Dropout)         (None, 64)                0         \n",
            "                                                                 \n",
            " dense_2 (Dense)             (None, 5)                 325       \n",
            "                                                                 \n",
            " activation_2 (Activation)   (None, 5)                 0         \n",
            "                                                                 \n",
            "=================================================================\n",
            "Total params: 54,725\n",
            "Trainable params: 54,725\n",
            "Non-trainable params: 0\n",
            "_________________________________________________________________\n",
            "None\n"
          ]
        }
      ]
    },
    {
      "cell_type": "code",
      "source": [
        "### Train the model\n",
        "history = model.fit(X_train, \n",
        "                    Y_train, \n",
        "                    batch_size=32, \n",
        "                    epochs=200, \n",
        "                    verbose=1,\n",
        "                    validation_data=(X_val, Y_val))"
      ],
      "metadata": {
        "colab": {
          "base_uri": "https://localhost:8080/"
        },
        "id": "46DxC0gzzcr4",
        "outputId": "2a3956b8-43fb-43b8-b463-4796ce210624"
      },
      "execution_count": 16,
      "outputs": [
        {
          "output_type": "stream",
          "name": "stdout",
          "text": [
            "Epoch 1/200\n",
            "5/5 [==============================] - 2s 54ms/step - loss: 1.6460 - acc: 0.1667 - val_loss: 1.6015 - val_acc: 0.1800\n",
            "Epoch 2/200\n",
            "5/5 [==============================] - 0s 8ms/step - loss: 1.5305 - acc: 0.3400 - val_loss: 1.4859 - val_acc: 0.3600\n",
            "Epoch 3/200\n",
            "5/5 [==============================] - 0s 9ms/step - loss: 1.5188 - acc: 0.2933 - val_loss: 1.4446 - val_acc: 0.5200\n",
            "Epoch 4/200\n",
            "5/5 [==============================] - 0s 13ms/step - loss: 1.4439 - acc: 0.3733 - val_loss: 1.4165 - val_acc: 0.5000\n",
            "Epoch 5/200\n",
            "5/5 [==============================] - 0s 8ms/step - loss: 1.4618 - acc: 0.3800 - val_loss: 1.3247 - val_acc: 0.6600\n",
            "Epoch 6/200\n",
            "5/5 [==============================] - 0s 9ms/step - loss: 1.3698 - acc: 0.4733 - val_loss: 1.2688 - val_acc: 0.5800\n",
            "Epoch 7/200\n",
            "5/5 [==============================] - 0s 8ms/step - loss: 1.2897 - acc: 0.4867 - val_loss: 1.1843 - val_acc: 0.7800\n",
            "Epoch 8/200\n",
            "5/5 [==============================] - 0s 8ms/step - loss: 1.1997 - acc: 0.5600 - val_loss: 1.1267 - val_acc: 0.7000\n",
            "Epoch 9/200\n",
            "5/5 [==============================] - 0s 9ms/step - loss: 1.1922 - acc: 0.5333 - val_loss: 1.0840 - val_acc: 0.6000\n",
            "Epoch 10/200\n",
            "5/5 [==============================] - 0s 9ms/step - loss: 1.1172 - acc: 0.5533 - val_loss: 1.0018 - val_acc: 0.7400\n",
            "Epoch 11/200\n",
            "5/5 [==============================] - 0s 9ms/step - loss: 1.1220 - acc: 0.5267 - val_loss: 0.9166 - val_acc: 0.9400\n",
            "Epoch 12/200\n",
            "5/5 [==============================] - 0s 8ms/step - loss: 1.0346 - acc: 0.6200 - val_loss: 0.8628 - val_acc: 0.8000\n",
            "Epoch 13/200\n",
            "5/5 [==============================] - 0s 8ms/step - loss: 0.9823 - acc: 0.6533 - val_loss: 0.8303 - val_acc: 0.7400\n",
            "Epoch 14/200\n",
            "5/5 [==============================] - 0s 9ms/step - loss: 0.9070 - acc: 0.6933 - val_loss: 0.7763 - val_acc: 0.8200\n",
            "Epoch 15/200\n",
            "5/5 [==============================] - 0s 9ms/step - loss: 0.8688 - acc: 0.6800 - val_loss: 0.6707 - val_acc: 0.9200\n",
            "Epoch 16/200\n",
            "5/5 [==============================] - 0s 8ms/step - loss: 0.7929 - acc: 0.7133 - val_loss: 0.6110 - val_acc: 0.9200\n",
            "Epoch 17/200\n",
            "5/5 [==============================] - 0s 9ms/step - loss: 0.7417 - acc: 0.7533 - val_loss: 0.6243 - val_acc: 0.8400\n",
            "Epoch 18/200\n",
            "5/5 [==============================] - 0s 9ms/step - loss: 0.7542 - acc: 0.7467 - val_loss: 0.5680 - val_acc: 0.9200\n",
            "Epoch 19/200\n",
            "5/5 [==============================] - 0s 9ms/step - loss: 0.6948 - acc: 0.7667 - val_loss: 0.5629 - val_acc: 0.8600\n",
            "Epoch 20/200\n",
            "5/5 [==============================] - 0s 9ms/step - loss: 0.7054 - acc: 0.8133 - val_loss: 0.5355 - val_acc: 0.8400\n",
            "Epoch 21/200\n",
            "5/5 [==============================] - 0s 11ms/step - loss: 0.6353 - acc: 0.7800 - val_loss: 0.4826 - val_acc: 0.9400\n",
            "Epoch 22/200\n",
            "5/5 [==============================] - 0s 11ms/step - loss: 0.6735 - acc: 0.8067 - val_loss: 0.4689 - val_acc: 0.8800\n",
            "Epoch 23/200\n",
            "5/5 [==============================] - 0s 10ms/step - loss: 0.6082 - acc: 0.7800 - val_loss: 0.4676 - val_acc: 0.9200\n",
            "Epoch 24/200\n",
            "5/5 [==============================] - 0s 9ms/step - loss: 0.6708 - acc: 0.7533 - val_loss: 0.4471 - val_acc: 0.9200\n",
            "Epoch 25/200\n",
            "5/5 [==============================] - 0s 9ms/step - loss: 0.5844 - acc: 0.8200 - val_loss: 0.3965 - val_acc: 0.9200\n",
            "Epoch 26/200\n",
            "5/5 [==============================] - 0s 8ms/step - loss: 0.5755 - acc: 0.7733 - val_loss: 0.3932 - val_acc: 0.8600\n",
            "Epoch 27/200\n",
            "5/5 [==============================] - 0s 9ms/step - loss: 0.4969 - acc: 0.8400 - val_loss: 0.3735 - val_acc: 0.9000\n",
            "Epoch 28/200\n",
            "5/5 [==============================] - 0s 9ms/step - loss: 0.5241 - acc: 0.8267 - val_loss: 0.3846 - val_acc: 0.8600\n",
            "Epoch 29/200\n",
            "5/5 [==============================] - 0s 8ms/step - loss: 0.4927 - acc: 0.8333 - val_loss: 0.3358 - val_acc: 0.9200\n",
            "Epoch 30/200\n",
            "5/5 [==============================] - 0s 9ms/step - loss: 0.4564 - acc: 0.8467 - val_loss: 0.3421 - val_acc: 0.9200\n",
            "Epoch 31/200\n",
            "5/5 [==============================] - 0s 8ms/step - loss: 0.5478 - acc: 0.7867 - val_loss: 0.3422 - val_acc: 0.9200\n",
            "Epoch 32/200\n",
            "5/5 [==============================] - 0s 9ms/step - loss: 0.4849 - acc: 0.8400 - val_loss: 0.3088 - val_acc: 0.9400\n",
            "Epoch 33/200\n",
            "5/5 [==============================] - 0s 8ms/step - loss: 0.4653 - acc: 0.8467 - val_loss: 0.3114 - val_acc: 0.9000\n",
            "Epoch 34/200\n",
            "5/5 [==============================] - 0s 8ms/step - loss: 0.4748 - acc: 0.8333 - val_loss: 0.3301 - val_acc: 0.9200\n",
            "Epoch 35/200\n",
            "5/5 [==============================] - 0s 8ms/step - loss: 0.4237 - acc: 0.8533 - val_loss: 0.3060 - val_acc: 0.9200\n",
            "Epoch 36/200\n",
            "5/5 [==============================] - 0s 8ms/step - loss: 0.4330 - acc: 0.8533 - val_loss: 0.2953 - val_acc: 0.9400\n",
            "Epoch 37/200\n",
            "5/5 [==============================] - 0s 8ms/step - loss: 0.4073 - acc: 0.8667 - val_loss: 0.2681 - val_acc: 0.9400\n",
            "Epoch 38/200\n",
            "5/5 [==============================] - 0s 9ms/step - loss: 0.4228 - acc: 0.8733 - val_loss: 0.2442 - val_acc: 0.9600\n",
            "Epoch 39/200\n",
            "5/5 [==============================] - 0s 8ms/step - loss: 0.3549 - acc: 0.9133 - val_loss: 0.2639 - val_acc: 0.9000\n",
            "Epoch 40/200\n",
            "5/5 [==============================] - 0s 9ms/step - loss: 0.3827 - acc: 0.8600 - val_loss: 0.2109 - val_acc: 0.9600\n",
            "Epoch 41/200\n",
            "5/5 [==============================] - 0s 8ms/step - loss: 0.3675 - acc: 0.8600 - val_loss: 0.2266 - val_acc: 0.9800\n",
            "Epoch 42/200\n",
            "5/5 [==============================] - 0s 16ms/step - loss: 0.4116 - acc: 0.8467 - val_loss: 0.2666 - val_acc: 0.9200\n",
            "Epoch 43/200\n",
            "5/5 [==============================] - 0s 10ms/step - loss: 0.3713 - acc: 0.8667 - val_loss: 0.2652 - val_acc: 0.9400\n",
            "Epoch 44/200\n",
            "5/5 [==============================] - 0s 9ms/step - loss: 0.3346 - acc: 0.9067 - val_loss: 0.3263 - val_acc: 0.8800\n",
            "Epoch 45/200\n",
            "5/5 [==============================] - 0s 9ms/step - loss: 0.3737 - acc: 0.9000 - val_loss: 0.2426 - val_acc: 0.9400\n",
            "Epoch 46/200\n",
            "5/5 [==============================] - 0s 9ms/step - loss: 0.4089 - acc: 0.8667 - val_loss: 0.2100 - val_acc: 0.9400\n",
            "Epoch 47/200\n",
            "5/5 [==============================] - 0s 9ms/step - loss: 0.3745 - acc: 0.8667 - val_loss: 0.1906 - val_acc: 0.9600\n",
            "Epoch 48/200\n",
            "5/5 [==============================] - 0s 9ms/step - loss: 0.3451 - acc: 0.8600 - val_loss: 0.1917 - val_acc: 0.9800\n",
            "Epoch 49/200\n",
            "5/5 [==============================] - 0s 9ms/step - loss: 0.2883 - acc: 0.9200 - val_loss: 0.2620 - val_acc: 0.9400\n",
            "Epoch 50/200\n",
            "5/5 [==============================] - 0s 9ms/step - loss: 0.3537 - acc: 0.9000 - val_loss: 0.2024 - val_acc: 0.9600\n",
            "Epoch 51/200\n",
            "5/5 [==============================] - 0s 9ms/step - loss: 0.3213 - acc: 0.8867 - val_loss: 0.1966 - val_acc: 0.9600\n",
            "Epoch 52/200\n",
            "5/5 [==============================] - 0s 13ms/step - loss: 0.2963 - acc: 0.9200 - val_loss: 0.1846 - val_acc: 0.9600\n",
            "Epoch 53/200\n",
            "5/5 [==============================] - 0s 9ms/step - loss: 0.2873 - acc: 0.9067 - val_loss: 0.1472 - val_acc: 0.9600\n",
            "Epoch 54/200\n",
            "5/5 [==============================] - 0s 8ms/step - loss: 0.2718 - acc: 0.8933 - val_loss: 0.1570 - val_acc: 0.9600\n",
            "Epoch 55/200\n",
            "5/5 [==============================] - 0s 10ms/step - loss: 0.2597 - acc: 0.9333 - val_loss: 0.1800 - val_acc: 0.9200\n",
            "Epoch 56/200\n",
            "5/5 [==============================] - 0s 9ms/step - loss: 0.2557 - acc: 0.9133 - val_loss: 0.1832 - val_acc: 0.9400\n",
            "Epoch 57/200\n",
            "5/5 [==============================] - 0s 9ms/step - loss: 0.3037 - acc: 0.9267 - val_loss: 0.1541 - val_acc: 0.9600\n",
            "Epoch 58/200\n",
            "5/5 [==============================] - 0s 9ms/step - loss: 0.2555 - acc: 0.9133 - val_loss: 0.1509 - val_acc: 0.9800\n",
            "Epoch 59/200\n",
            "5/5 [==============================] - 0s 9ms/step - loss: 0.2758 - acc: 0.9133 - val_loss: 0.1546 - val_acc: 0.9600\n",
            "Epoch 60/200\n",
            "5/5 [==============================] - 0s 9ms/step - loss: 0.2481 - acc: 0.9267 - val_loss: 0.1635 - val_acc: 0.9400\n",
            "Epoch 61/200\n",
            "5/5 [==============================] - 0s 18ms/step - loss: 0.2408 - acc: 0.9467 - val_loss: 0.1471 - val_acc: 0.9400\n",
            "Epoch 62/200\n",
            "5/5 [==============================] - 0s 9ms/step - loss: 0.2838 - acc: 0.9067 - val_loss: 0.1597 - val_acc: 0.9400\n",
            "Epoch 63/200\n",
            "5/5 [==============================] - 0s 13ms/step - loss: 0.2714 - acc: 0.9200 - val_loss: 0.2352 - val_acc: 0.8800\n",
            "Epoch 64/200\n",
            "5/5 [==============================] - 0s 14ms/step - loss: 0.2833 - acc: 0.9200 - val_loss: 0.1661 - val_acc: 0.9600\n",
            "Epoch 65/200\n",
            "5/5 [==============================] - 0s 9ms/step - loss: 0.2901 - acc: 0.9000 - val_loss: 0.1528 - val_acc: 0.9400\n",
            "Epoch 66/200\n",
            "5/5 [==============================] - 0s 9ms/step - loss: 0.2435 - acc: 0.9400 - val_loss: 0.1784 - val_acc: 0.9400\n",
            "Epoch 67/200\n",
            "5/5 [==============================] - 0s 9ms/step - loss: 0.2324 - acc: 0.9067 - val_loss: 0.2445 - val_acc: 0.9000\n",
            "Epoch 68/200\n",
            "5/5 [==============================] - 0s 9ms/step - loss: 0.3316 - acc: 0.8733 - val_loss: 0.1699 - val_acc: 0.9600\n",
            "Epoch 69/200\n",
            "5/5 [==============================] - 0s 8ms/step - loss: 0.2624 - acc: 0.9333 - val_loss: 0.1464 - val_acc: 0.9800\n",
            "Epoch 70/200\n",
            "5/5 [==============================] - 0s 9ms/step - loss: 0.2562 - acc: 0.9000 - val_loss: 0.1810 - val_acc: 0.9200\n",
            "Epoch 71/200\n",
            "5/5 [==============================] - 0s 9ms/step - loss: 0.2228 - acc: 0.9133 - val_loss: 0.1858 - val_acc: 0.9000\n",
            "Epoch 72/200\n",
            "5/5 [==============================] - 0s 9ms/step - loss: 0.2583 - acc: 0.9067 - val_loss: 0.1416 - val_acc: 0.9600\n",
            "Epoch 73/200\n",
            "5/5 [==============================] - 0s 9ms/step - loss: 0.2408 - acc: 0.9333 - val_loss: 0.1371 - val_acc: 0.9600\n",
            "Epoch 74/200\n",
            "5/5 [==============================] - 0s 11ms/step - loss: 0.2421 - acc: 0.9067 - val_loss: 0.1497 - val_acc: 0.9400\n",
            "Epoch 75/200\n",
            "5/5 [==============================] - 0s 8ms/step - loss: 0.2343 - acc: 0.9467 - val_loss: 0.1220 - val_acc: 0.9800\n",
            "Epoch 76/200\n",
            "5/5 [==============================] - 0s 9ms/step - loss: 0.2219 - acc: 0.9333 - val_loss: 0.1511 - val_acc: 0.9600\n",
            "Epoch 77/200\n",
            "5/5 [==============================] - 0s 8ms/step - loss: 0.2058 - acc: 0.9333 - val_loss: 0.1454 - val_acc: 0.9400\n",
            "Epoch 78/200\n",
            "5/5 [==============================] - 0s 8ms/step - loss: 0.2267 - acc: 0.9333 - val_loss: 0.1179 - val_acc: 0.9800\n",
            "Epoch 79/200\n",
            "5/5 [==============================] - 0s 9ms/step - loss: 0.2041 - acc: 0.9400 - val_loss: 0.1607 - val_acc: 0.9400\n",
            "Epoch 80/200\n",
            "5/5 [==============================] - 0s 9ms/step - loss: 0.1890 - acc: 0.9400 - val_loss: 0.1541 - val_acc: 0.9200\n",
            "Epoch 81/200\n",
            "5/5 [==============================] - 0s 10ms/step - loss: 0.1909 - acc: 0.9400 - val_loss: 0.1197 - val_acc: 0.9600\n",
            "Epoch 82/200\n",
            "5/5 [==============================] - 0s 9ms/step - loss: 0.1979 - acc: 0.9333 - val_loss: 0.1466 - val_acc: 0.9600\n",
            "Epoch 83/200\n",
            "5/5 [==============================] - 0s 9ms/step - loss: 0.1795 - acc: 0.9400 - val_loss: 0.1657 - val_acc: 0.9400\n",
            "Epoch 84/200\n",
            "5/5 [==============================] - 0s 9ms/step - loss: 0.2625 - acc: 0.9133 - val_loss: 0.1090 - val_acc: 0.9800\n",
            "Epoch 85/200\n",
            "5/5 [==============================] - 0s 9ms/step - loss: 0.1701 - acc: 0.9467 - val_loss: 0.1422 - val_acc: 0.9600\n",
            "Epoch 86/200\n",
            "5/5 [==============================] - 0s 9ms/step - loss: 0.1480 - acc: 0.9533 - val_loss: 0.1182 - val_acc: 0.9600\n",
            "Epoch 87/200\n",
            "5/5 [==============================] - 0s 8ms/step - loss: 0.1748 - acc: 0.9200 - val_loss: 0.1170 - val_acc: 0.9800\n",
            "Epoch 88/200\n",
            "5/5 [==============================] - 0s 10ms/step - loss: 0.2134 - acc: 0.9267 - val_loss: 0.1758 - val_acc: 0.9200\n",
            "Epoch 89/200\n",
            "5/5 [==============================] - 0s 9ms/step - loss: 0.1521 - acc: 0.9400 - val_loss: 0.1109 - val_acc: 0.9600\n",
            "Epoch 90/200\n",
            "5/5 [==============================] - 0s 9ms/step - loss: 0.1856 - acc: 0.9400 - val_loss: 0.1006 - val_acc: 0.9600\n",
            "Epoch 91/200\n",
            "5/5 [==============================] - 0s 9ms/step - loss: 0.1532 - acc: 0.9800 - val_loss: 0.1071 - val_acc: 0.9800\n",
            "Epoch 92/200\n",
            "5/5 [==============================] - 0s 9ms/step - loss: 0.1889 - acc: 0.9333 - val_loss: 0.1008 - val_acc: 0.9600\n",
            "Epoch 93/200\n",
            "5/5 [==============================] - 0s 9ms/step - loss: 0.2045 - acc: 0.9200 - val_loss: 0.0834 - val_acc: 0.9800\n",
            "Epoch 94/200\n",
            "5/5 [==============================] - 0s 9ms/step - loss: 0.1884 - acc: 0.9400 - val_loss: 0.1072 - val_acc: 0.9400\n",
            "Epoch 95/200\n",
            "5/5 [==============================] - 0s 10ms/step - loss: 0.1650 - acc: 0.9400 - val_loss: 0.1257 - val_acc: 0.9400\n",
            "Epoch 96/200\n",
            "5/5 [==============================] - 0s 9ms/step - loss: 0.1878 - acc: 0.9533 - val_loss: 0.1212 - val_acc: 0.9600\n",
            "Epoch 97/200\n",
            "5/5 [==============================] - 0s 8ms/step - loss: 0.1603 - acc: 0.9467 - val_loss: 0.0970 - val_acc: 0.9600\n",
            "Epoch 98/200\n",
            "5/5 [==============================] - 0s 14ms/step - loss: 0.1604 - acc: 0.9467 - val_loss: 0.1367 - val_acc: 0.9800\n",
            "Epoch 99/200\n",
            "5/5 [==============================] - 0s 9ms/step - loss: 0.1805 - acc: 0.9467 - val_loss: 0.1133 - val_acc: 0.9600\n",
            "Epoch 100/200\n",
            "5/5 [==============================] - 0s 9ms/step - loss: 0.1826 - acc: 0.9400 - val_loss: 0.0873 - val_acc: 1.0000\n",
            "Epoch 101/200\n",
            "5/5 [==============================] - 0s 11ms/step - loss: 0.1191 - acc: 0.9800 - val_loss: 0.1168 - val_acc: 0.9800\n",
            "Epoch 102/200\n",
            "5/5 [==============================] - 0s 9ms/step - loss: 0.1708 - acc: 0.9333 - val_loss: 0.1123 - val_acc: 0.9600\n",
            "Epoch 103/200\n",
            "5/5 [==============================] - 0s 9ms/step - loss: 0.1387 - acc: 0.9467 - val_loss: 0.1120 - val_acc: 0.9400\n",
            "Epoch 104/200\n",
            "5/5 [==============================] - 0s 11ms/step - loss: 0.1659 - acc: 0.9400 - val_loss: 0.0873 - val_acc: 1.0000\n",
            "Epoch 105/200\n",
            "5/5 [==============================] - 0s 10ms/step - loss: 0.1355 - acc: 0.9600 - val_loss: 0.1006 - val_acc: 0.9800\n",
            "Epoch 106/200\n",
            "5/5 [==============================] - 0s 8ms/step - loss: 0.1562 - acc: 0.9600 - val_loss: 0.1411 - val_acc: 0.9200\n",
            "Epoch 107/200\n",
            "5/5 [==============================] - 0s 8ms/step - loss: 0.1263 - acc: 0.9667 - val_loss: 0.0733 - val_acc: 0.9800\n",
            "Epoch 108/200\n",
            "5/5 [==============================] - 0s 9ms/step - loss: 0.1358 - acc: 0.9600 - val_loss: 0.0941 - val_acc: 0.9600\n",
            "Epoch 109/200\n",
            "5/5 [==============================] - 0s 9ms/step - loss: 0.1406 - acc: 0.9533 - val_loss: 0.1001 - val_acc: 0.9600\n",
            "Epoch 110/200\n",
            "5/5 [==============================] - 0s 9ms/step - loss: 0.1565 - acc: 0.9667 - val_loss: 0.0952 - val_acc: 1.0000\n",
            "Epoch 111/200\n",
            "5/5 [==============================] - 0s 11ms/step - loss: 0.1647 - acc: 0.9267 - val_loss: 0.1156 - val_acc: 0.9400\n",
            "Epoch 112/200\n",
            "5/5 [==============================] - 0s 10ms/step - loss: 0.2142 - acc: 0.9133 - val_loss: 0.1312 - val_acc: 0.9600\n",
            "Epoch 113/200\n",
            "5/5 [==============================] - 0s 9ms/step - loss: 0.1582 - acc: 0.9400 - val_loss: 0.1299 - val_acc: 0.9400\n",
            "Epoch 114/200\n",
            "5/5 [==============================] - 0s 9ms/step - loss: 0.1646 - acc: 0.9333 - val_loss: 0.1169 - val_acc: 0.9600\n",
            "Epoch 115/200\n",
            "5/5 [==============================] - 0s 10ms/step - loss: 0.1208 - acc: 0.9400 - val_loss: 0.1542 - val_acc: 0.9600\n",
            "Epoch 116/200\n",
            "5/5 [==============================] - 0s 13ms/step - loss: 0.1926 - acc: 0.9333 - val_loss: 0.1685 - val_acc: 0.9000\n",
            "Epoch 117/200\n",
            "5/5 [==============================] - 0s 15ms/step - loss: 0.2468 - acc: 0.9200 - val_loss: 0.1019 - val_acc: 0.9600\n",
            "Epoch 118/200\n",
            "5/5 [==============================] - 0s 9ms/step - loss: 0.1246 - acc: 0.9600 - val_loss: 0.1119 - val_acc: 0.9800\n",
            "Epoch 119/200\n",
            "5/5 [==============================] - 0s 9ms/step - loss: 0.1237 - acc: 0.9733 - val_loss: 0.0879 - val_acc: 0.9800\n",
            "Epoch 120/200\n",
            "5/5 [==============================] - 0s 12ms/step - loss: 0.2179 - acc: 0.9200 - val_loss: 0.0693 - val_acc: 1.0000\n",
            "Epoch 121/200\n",
            "5/5 [==============================] - 0s 9ms/step - loss: 0.1785 - acc: 0.9467 - val_loss: 0.0638 - val_acc: 0.9800\n",
            "Epoch 122/200\n",
            "5/5 [==============================] - 0s 9ms/step - loss: 0.1710 - acc: 0.9400 - val_loss: 0.0974 - val_acc: 0.9600\n",
            "Epoch 123/200\n",
            "5/5 [==============================] - 0s 9ms/step - loss: 0.1048 - acc: 0.9667 - val_loss: 0.1267 - val_acc: 0.9400\n",
            "Epoch 124/200\n",
            "5/5 [==============================] - 0s 9ms/step - loss: 0.1205 - acc: 0.9600 - val_loss: 0.0917 - val_acc: 0.9800\n",
            "Epoch 125/200\n",
            "5/5 [==============================] - 0s 8ms/step - loss: 0.1128 - acc: 0.9800 - val_loss: 0.0908 - val_acc: 0.9600\n",
            "Epoch 126/200\n",
            "5/5 [==============================] - 0s 9ms/step - loss: 0.1446 - acc: 0.9400 - val_loss: 0.0692 - val_acc: 0.9800\n",
            "Epoch 127/200\n",
            "5/5 [==============================] - 0s 11ms/step - loss: 0.1420 - acc: 0.9533 - val_loss: 0.0830 - val_acc: 0.9600\n",
            "Epoch 128/200\n",
            "5/5 [==============================] - 0s 10ms/step - loss: 0.1058 - acc: 0.9600 - val_loss: 0.0670 - val_acc: 1.0000\n",
            "Epoch 129/200\n",
            "5/5 [==============================] - 0s 9ms/step - loss: 0.1146 - acc: 0.9733 - val_loss: 0.0658 - val_acc: 0.9800\n",
            "Epoch 130/200\n",
            "5/5 [==============================] - 0s 15ms/step - loss: 0.0974 - acc: 0.9733 - val_loss: 0.0896 - val_acc: 0.9600\n",
            "Epoch 131/200\n",
            "5/5 [==============================] - 0s 13ms/step - loss: 0.1070 - acc: 0.9600 - val_loss: 0.0785 - val_acc: 0.9600\n",
            "Epoch 132/200\n",
            "5/5 [==============================] - 0s 13ms/step - loss: 0.1462 - acc: 0.9600 - val_loss: 0.1128 - val_acc: 0.9600\n",
            "Epoch 133/200\n",
            "5/5 [==============================] - 0s 13ms/step - loss: 0.1791 - acc: 0.9333 - val_loss: 0.0753 - val_acc: 0.9800\n",
            "Epoch 134/200\n",
            "5/5 [==============================] - 0s 15ms/step - loss: 0.1034 - acc: 0.9800 - val_loss: 0.1444 - val_acc: 0.9200\n",
            "Epoch 135/200\n",
            "5/5 [==============================] - 0s 13ms/step - loss: 0.1116 - acc: 0.9467 - val_loss: 0.1037 - val_acc: 0.9400\n",
            "Epoch 136/200\n",
            "5/5 [==============================] - 0s 14ms/step - loss: 0.1108 - acc: 0.9667 - val_loss: 0.0641 - val_acc: 1.0000\n",
            "Epoch 137/200\n",
            "5/5 [==============================] - 0s 15ms/step - loss: 0.0941 - acc: 0.9800 - val_loss: 0.0778 - val_acc: 0.9800\n",
            "Epoch 138/200\n",
            "5/5 [==============================] - 0s 15ms/step - loss: 0.0821 - acc: 0.9733 - val_loss: 0.0761 - val_acc: 0.9800\n",
            "Epoch 139/200\n",
            "5/5 [==============================] - 0s 13ms/step - loss: 0.0720 - acc: 0.9800 - val_loss: 0.0677 - val_acc: 1.0000\n",
            "Epoch 140/200\n",
            "5/5 [==============================] - 0s 13ms/step - loss: 0.0989 - acc: 0.9667 - val_loss: 0.0565 - val_acc: 1.0000\n",
            "Epoch 141/200\n",
            "5/5 [==============================] - 0s 16ms/step - loss: 0.0859 - acc: 0.9733 - val_loss: 0.0617 - val_acc: 0.9800\n",
            "Epoch 142/200\n",
            "5/5 [==============================] - 0s 16ms/step - loss: 0.1078 - acc: 0.9733 - val_loss: 0.1043 - val_acc: 0.9400\n",
            "Epoch 143/200\n",
            "5/5 [==============================] - 0s 13ms/step - loss: 0.0772 - acc: 0.9933 - val_loss: 0.1099 - val_acc: 0.9400\n",
            "Epoch 144/200\n",
            "5/5 [==============================] - 0s 11ms/step - loss: 0.1064 - acc: 0.9600 - val_loss: 0.0625 - val_acc: 1.0000\n",
            "Epoch 145/200\n",
            "5/5 [==============================] - 0s 17ms/step - loss: 0.1381 - acc: 0.9467 - val_loss: 0.0670 - val_acc: 1.0000\n",
            "Epoch 146/200\n",
            "5/5 [==============================] - 0s 12ms/step - loss: 0.0852 - acc: 0.9933 - val_loss: 0.1436 - val_acc: 0.9000\n",
            "Epoch 147/200\n",
            "5/5 [==============================] - 0s 13ms/step - loss: 0.1287 - acc: 0.9600 - val_loss: 0.1617 - val_acc: 0.9400\n",
            "Epoch 148/200\n",
            "5/5 [==============================] - 0s 12ms/step - loss: 0.1394 - acc: 0.9600 - val_loss: 0.0963 - val_acc: 0.9600\n",
            "Epoch 149/200\n",
            "5/5 [==============================] - 0s 14ms/step - loss: 0.1101 - acc: 0.9667 - val_loss: 0.0787 - val_acc: 1.0000\n",
            "Epoch 150/200\n",
            "5/5 [==============================] - 0s 14ms/step - loss: 0.1283 - acc: 0.9667 - val_loss: 0.0704 - val_acc: 0.9800\n",
            "Epoch 151/200\n",
            "5/5 [==============================] - 0s 14ms/step - loss: 0.1690 - acc: 0.9533 - val_loss: 0.0918 - val_acc: 0.9800\n",
            "Epoch 152/200\n",
            "5/5 [==============================] - 0s 19ms/step - loss: 0.0911 - acc: 0.9800 - val_loss: 0.0836 - val_acc: 0.9800\n",
            "Epoch 153/200\n",
            "5/5 [==============================] - 0s 12ms/step - loss: 0.0756 - acc: 0.9867 - val_loss: 0.0788 - val_acc: 0.9800\n",
            "Epoch 154/200\n",
            "5/5 [==============================] - 0s 12ms/step - loss: 0.0657 - acc: 0.9933 - val_loss: 0.0891 - val_acc: 0.9600\n",
            "Epoch 155/200\n",
            "5/5 [==============================] - 0s 12ms/step - loss: 0.0944 - acc: 0.9733 - val_loss: 0.0749 - val_acc: 0.9800\n",
            "Epoch 156/200\n",
            "5/5 [==============================] - 0s 12ms/step - loss: 0.0638 - acc: 0.9867 - val_loss: 0.0797 - val_acc: 0.9600\n",
            "Epoch 157/200\n",
            "5/5 [==============================] - 0s 12ms/step - loss: 0.1051 - acc: 0.9667 - val_loss: 0.0643 - val_acc: 0.9800\n",
            "Epoch 158/200\n",
            "5/5 [==============================] - 0s 11ms/step - loss: 0.0650 - acc: 0.9867 - val_loss: 0.0758 - val_acc: 0.9800\n",
            "Epoch 159/200\n",
            "5/5 [==============================] - 0s 12ms/step - loss: 0.0721 - acc: 0.9800 - val_loss: 0.0720 - val_acc: 0.9800\n",
            "Epoch 160/200\n",
            "5/5 [==============================] - 0s 11ms/step - loss: 0.0621 - acc: 0.9933 - val_loss: 0.0600 - val_acc: 0.9800\n",
            "Epoch 161/200\n",
            "5/5 [==============================] - 0s 14ms/step - loss: 0.0527 - acc: 0.9867 - val_loss: 0.0509 - val_acc: 0.9800\n",
            "Epoch 162/200\n",
            "5/5 [==============================] - 0s 14ms/step - loss: 0.0891 - acc: 0.9800 - val_loss: 0.0549 - val_acc: 0.9800\n",
            "Epoch 163/200\n",
            "5/5 [==============================] - 0s 20ms/step - loss: 0.0758 - acc: 0.9800 - val_loss: 0.0480 - val_acc: 1.0000\n",
            "Epoch 164/200\n",
            "5/5 [==============================] - 0s 12ms/step - loss: 0.0607 - acc: 0.9800 - val_loss: 0.0507 - val_acc: 0.9800\n",
            "Epoch 165/200\n",
            "5/5 [==============================] - 0s 12ms/step - loss: 0.0606 - acc: 0.9867 - val_loss: 0.0588 - val_acc: 0.9600\n",
            "Epoch 166/200\n",
            "5/5 [==============================] - 0s 17ms/step - loss: 0.0738 - acc: 0.9600 - val_loss: 0.0520 - val_acc: 0.9800\n",
            "Epoch 167/200\n",
            "5/5 [==============================] - 0s 19ms/step - loss: 0.1043 - acc: 0.9600 - val_loss: 0.0579 - val_acc: 0.9800\n",
            "Epoch 168/200\n",
            "5/5 [==============================] - 0s 17ms/step - loss: 0.0764 - acc: 0.9667 - val_loss: 0.0920 - val_acc: 0.9600\n",
            "Epoch 169/200\n",
            "5/5 [==============================] - 0s 16ms/step - loss: 0.0601 - acc: 0.9867 - val_loss: 0.1004 - val_acc: 0.9600\n",
            "Epoch 170/200\n",
            "5/5 [==============================] - 0s 12ms/step - loss: 0.0591 - acc: 1.0000 - val_loss: 0.0532 - val_acc: 1.0000\n",
            "Epoch 171/200\n",
            "5/5 [==============================] - 0s 17ms/step - loss: 0.0591 - acc: 0.9867 - val_loss: 0.0728 - val_acc: 0.9600\n",
            "Epoch 172/200\n",
            "5/5 [==============================] - 0s 16ms/step - loss: 0.0760 - acc: 0.9733 - val_loss: 0.0606 - val_acc: 0.9800\n",
            "Epoch 173/200\n",
            "5/5 [==============================] - 0s 10ms/step - loss: 0.0770 - acc: 0.9800 - val_loss: 0.0920 - val_acc: 0.9600\n",
            "Epoch 174/200\n",
            "5/5 [==============================] - 0s 9ms/step - loss: 0.0485 - acc: 1.0000 - val_loss: 0.0713 - val_acc: 0.9800\n",
            "Epoch 175/200\n",
            "5/5 [==============================] - 0s 9ms/step - loss: 0.0749 - acc: 0.9667 - val_loss: 0.0564 - val_acc: 1.0000\n",
            "Epoch 176/200\n",
            "5/5 [==============================] - 0s 14ms/step - loss: 0.0562 - acc: 0.9800 - val_loss: 0.0623 - val_acc: 0.9800\n",
            "Epoch 177/200\n",
            "5/5 [==============================] - 0s 10ms/step - loss: 0.0657 - acc: 0.9667 - val_loss: 0.0715 - val_acc: 1.0000\n",
            "Epoch 178/200\n",
            "5/5 [==============================] - 0s 10ms/step - loss: 0.0502 - acc: 0.9867 - val_loss: 0.0621 - val_acc: 0.9800\n",
            "Epoch 179/200\n",
            "5/5 [==============================] - 0s 10ms/step - loss: 0.0533 - acc: 0.9867 - val_loss: 0.0650 - val_acc: 0.9600\n",
            "Epoch 180/200\n",
            "5/5 [==============================] - 0s 9ms/step - loss: 0.0905 - acc: 0.9600 - val_loss: 0.0484 - val_acc: 1.0000\n",
            "Epoch 181/200\n",
            "5/5 [==============================] - 0s 9ms/step - loss: 0.0744 - acc: 0.9800 - val_loss: 0.0697 - val_acc: 0.9600\n",
            "Epoch 182/200\n",
            "5/5 [==============================] - 0s 9ms/step - loss: 0.0836 - acc: 0.9533 - val_loss: 0.0666 - val_acc: 0.9800\n",
            "Epoch 183/200\n",
            "5/5 [==============================] - 0s 9ms/step - loss: 0.0577 - acc: 0.9800 - val_loss: 0.0601 - val_acc: 0.9800\n",
            "Epoch 184/200\n",
            "5/5 [==============================] - 0s 11ms/step - loss: 0.0734 - acc: 0.9867 - val_loss: 0.0563 - val_acc: 1.0000\n",
            "Epoch 185/200\n",
            "5/5 [==============================] - 0s 9ms/step - loss: 0.0721 - acc: 0.9733 - val_loss: 0.0962 - val_acc: 0.9400\n",
            "Epoch 186/200\n",
            "5/5 [==============================] - 0s 9ms/step - loss: 0.0412 - acc: 0.9933 - val_loss: 0.0650 - val_acc: 0.9600\n",
            "Epoch 187/200\n",
            "5/5 [==============================] - 0s 9ms/step - loss: 0.0533 - acc: 0.9867 - val_loss: 0.1352 - val_acc: 0.9600\n",
            "Epoch 188/200\n",
            "5/5 [==============================] - 0s 9ms/step - loss: 0.0763 - acc: 0.9667 - val_loss: 0.0884 - val_acc: 0.9800\n",
            "Epoch 189/200\n",
            "5/5 [==============================] - 0s 11ms/step - loss: 0.0752 - acc: 0.9667 - val_loss: 0.1132 - val_acc: 0.9000\n",
            "Epoch 190/200\n",
            "5/5 [==============================] - 0s 9ms/step - loss: 0.0638 - acc: 0.9800 - val_loss: 0.1133 - val_acc: 0.9600\n",
            "Epoch 191/200\n",
            "5/5 [==============================] - 0s 9ms/step - loss: 0.0613 - acc: 0.9933 - val_loss: 0.0444 - val_acc: 1.0000\n",
            "Epoch 192/200\n",
            "5/5 [==============================] - 0s 9ms/step - loss: 0.0702 - acc: 0.9800 - val_loss: 0.0398 - val_acc: 1.0000\n",
            "Epoch 193/200\n",
            "5/5 [==============================] - 0s 9ms/step - loss: 0.0752 - acc: 0.9867 - val_loss: 0.0419 - val_acc: 0.9800\n",
            "Epoch 194/200\n",
            "5/5 [==============================] - 0s 10ms/step - loss: 0.0407 - acc: 0.9933 - val_loss: 0.0943 - val_acc: 0.9200\n",
            "Epoch 195/200\n",
            "5/5 [==============================] - 0s 10ms/step - loss: 0.0846 - acc: 0.9733 - val_loss: 0.1039 - val_acc: 0.9600\n",
            "Epoch 196/200\n",
            "5/5 [==============================] - 0s 9ms/step - loss: 0.0570 - acc: 0.9800 - val_loss: 0.0643 - val_acc: 0.9600\n",
            "Epoch 197/200\n",
            "5/5 [==============================] - 0s 9ms/step - loss: 0.0384 - acc: 1.0000 - val_loss: 0.0445 - val_acc: 0.9800\n",
            "Epoch 198/200\n",
            "5/5 [==============================] - 0s 9ms/step - loss: 0.0260 - acc: 1.0000 - val_loss: 0.0489 - val_acc: 1.0000\n",
            "Epoch 199/200\n",
            "5/5 [==============================] - 0s 10ms/step - loss: 0.1415 - acc: 0.9600 - val_loss: 0.0676 - val_acc: 0.9600\n",
            "Epoch 200/200\n",
            "5/5 [==============================] - 0s 10ms/step - loss: 0.0374 - acc: 0.9933 - val_loss: 0.0804 - val_acc: 0.9800\n"
          ]
        }
      ]
    },
    {
      "cell_type": "code",
      "source": [
        "### Plot training and validation accuracy and loss over time\n",
        "\n",
        "# Extract accuracy and loss values (in list form) from the history\n",
        "acc = history.history['acc']\n",
        "val_acc = history.history['val_acc']\n",
        "loss = history.history['loss']\n",
        "val_loss = history.history['val_loss']\n",
        "\n",
        "# Create a list of epoch numbers\n",
        "epochs = range(1, len(acc) + 1)\n",
        "\n",
        "# Plot training and validation loss values over time\n",
        "plt.figure()\n",
        "plt.plot(epochs, loss, color='blue', marker='.', label='Training loss')\n",
        "plt.plot(epochs, val_loss, color='orange', marker='.', label='Validation loss')\n",
        "plt.title('Training and validation loss')\n",
        "plt.legend()\n",
        "\n",
        "# Plot training and validation accuracies over time\n",
        "plt.figure()\n",
        "plt.plot(epochs, acc, color='blue', marker='.', label='Training acc')\n",
        "plt.plot(epochs, val_acc, color='orange', marker='.', label='Validation acc')\n",
        "plt.title('Training and validation accuracy')\n",
        "plt.legend()\n",
        "plt.show()"
      ],
      "metadata": {
        "colab": {
          "base_uri": "https://localhost:8080/",
          "height": 545
        },
        "id": "RHhPX49AzrPC",
        "outputId": "224ec961-6f6f-4ace-d612-484a67067d2d"
      },
      "execution_count": 17,
      "outputs": [
        {
          "output_type": "display_data",
          "data": {
            "text/plain": [
              "<Figure size 432x288 with 1 Axes>"
            ],
            "image/png": "[encoded data removed]"
          },
          "metadata": {
            "needs_background": "light"
          }
        },
        {
          "output_type": "display_data",
          "data": {
            "text/plain": [
              "<Figure size 432x288 with 1 Axes>"
            ],
            "image/png": "[encoded data removed]"
          },
          "metadata": {
            "needs_background": "light"
          }
        }
      ]
    },
    {
      "cell_type": "code",
      "source": [
        "### Try predicting label with one validation sample (inference)\n",
        "\n",
        "# Change this to try a different sample from the test set\n",
        "idx = 0\n",
        "\n",
        "# Make sample 2D array instead of 1D vector (this is what the Keras model expects as input)\n",
        "x = np.expand_dims(X_val[idx], 0)\n",
        "\n",
        "# Make prediction using trained model\n",
        "y_pred = model.predict(x)\n",
        "\n",
        "# Find index of highest score in output\n",
        "predicted_label = np.argmax(y_pred)\n",
        "actual_label = np.argmax(Y_val[idx])\n",
        "\n",
        "# Display model output, predicted label, actual label\n",
        "print(\"Model output:\", y_pred)\n",
        "print(\"Predicted label:\", predicted_label, \"-\", labels[predicted_label])\n",
        "print(\"Actual label:\", actual_label, \"-\", labels[actual_label])"
      ],
      "metadata": {
        "colab": {
          "base_uri": "https://localhost:8080/"
        },
        "id": "_y5zXN5-0H5z",
        "outputId": "2e5cae64-9ea0-4a1a-e9e8-0959d82dc329"
      },
      "execution_count": 18,
      "outputs": [
        {
          "output_type": "stream",
          "name": "stdout",
          "text": [
            "1/1 [==============================] - 0s 165ms/step\n",
            "Model output: [[2.5717923e-03 2.3535358e-02 4.7663180e-03 9.3291898e-04 9.6819365e-01]]\n",
            "Predicted label: 4 - resistor\n",
            "Actual label: 4 - resistor\n"
          ]
        }
      ]
    },
    {
      "cell_type": "code",
      "source": [
        "### Create confusion matrix from validation set\n",
        "\n",
        "# Find predictions from all validation samples\n",
        "Y_pred = model.predict(X_val)\n",
        "print(\"Validation output shape:\", Y_pred.shape)\n",
        "\n",
        "# Convert actual and predicted validation one-hot encoding to numerical labels\n",
        "y_val = np.argmax(Y_val, axis=1)\n",
        "y_pred = np.argmax(Y_pred, axis=1)\n",
        "\n",
        "# Print some values from actual and predicted validation sets (first 50 samples)\n",
        "print(\"Actual validation labels:\\t\", y_val[:50])\n",
        "print(\"Predicted validation labels:\\t\", y_pred[:50])\n",
        "\n",
        "# Compute confusion matrix (note: we need to transpose SKLearn matrix to make it match Edge Impulse)\n",
        "cm = confusion_matrix(y_val, y_pred)\n",
        "cm = np.transpose(cm)\n",
        "\n",
        "# Print confusion matrix\n",
        "print()\n",
        "print(\" ---> Predicted labels\")\n",
        "print(\"|\")\n",
        "print(\"v Actual labels\")\n",
        "print(\"\\t\\t\\t\" + ' '.join(\"{!s:6}\".format('(' + str(i) + ')') for i in range(num_classes)))\n",
        "for row in range(num_classes):\n",
        "  print(\"{:>12} ({}):  [{}]\".format(labels[row], row, ' '.join(\"{:6}\".format(i) for i in cm[row])))"
      ],
      "metadata": {
        "colab": {
          "base_uri": "https://localhost:8080/"
        },
        "id": "7XbwanFJ0xPc",
        "outputId": "1cc9df57-8f04-44e1-c6c0-73ed0f350264"
      },
      "execution_count": 19,
      "outputs": [
        {
          "output_type": "stream",
          "name": "stdout",
          "text": [
            "2/2 [==============================] - 0s 10ms/step\n",
            "Validation output shape: (50, 5)\n",
            "Actual validation labels:\t [4 4 2 4 1 0 3 0 3 1 0 4 4 4 3 1 3 1 3 1 2 2 3 4 2 3 1 3 2 0 0 1 2 1 3 3 0\n",
            " 1 1 2 2 3 1 4 2 0 1 4 3 3]\n",
            "Predicted validation labels:\t [4 4 2 4 1 0 3 0 3 1 0 4 4 4 3 1 3 1 3 1 2 2 3 4 2 3 1 3 2 0 0 1 2 1 3 3 0\n",
            " 2 1 2 2 3 1 4 2 0 1 4 3 3]\n",
            "\n",
            " ---> Predicted labels\n",
            "|\n",
            "v Actual labels\n",
            "\t\t\t(0)    (1)    (2)    (3)    (4)   \n",
            "  background (0):  [     7      0      0      0      0]\n",
            "   capacitor (1):  [     0     11      0      0      0]\n",
            "       diode (2):  [     0      1      9      0      0]\n",
            "         led (3):  [     0      0      0     13      0]\n",
            "    resistor (4):  [     0      0      0      0      9]\n"
          ]
        }
      ]
    },
    {
      "cell_type": "code",
      "source": [
        "### Evaluate model on validation set\n",
        "score = model.evaluate(X_val, Y_val)\n",
        "print(\"Validation loss:\", score[0])\n",
        "print(\"Validation accuracy:\", score[1])"
      ],
      "metadata": {
        "colab": {
          "base_uri": "https://localhost:8080/"
        },
        "id": "UvV9Z6VW00y0",
        "outputId": "43ef566d-2ec8-4b3c-ce42-42af087fb9cb"
      },
      "execution_count": 20,
      "outputs": [
        {
          "output_type": "stream",
          "name": "stdout",
          "text": [
            "2/2 [==============================] - 0s 11ms/step - loss: 0.0804 - acc: 0.9800\n",
            "Validation loss: 0.08044039458036423\n",
            "Validation accuracy: 0.9800000190734863\n"
          ]
        }
      ]
    },
    {
      "cell_type": "code",
      "source": [
        "### Evaluate model on entire test set\n",
        "score = model.evaluate(X_test, Y_test)\n",
        "print(\"Test loss:\", score[0])\n",
        "print(\"Test accuracy:\", score[1])"
      ],
      "metadata": {
        "colab": {
          "base_uri": "https://localhost:8080/"
        },
        "id": "8seDRKgQ07PE",
        "outputId": "a691cf70-7d08-4997-f802-951991ae347e"
      },
      "execution_count": 21,
      "outputs": [
        {
          "output_type": "stream",
          "name": "stdout",
          "text": [
            "2/2 [==============================] - 0s 5ms/step - loss: 0.1999 - acc: 0.9200\n",
            "Test loss: 0.1999342292547226\n",
            "Test accuracy: 0.9200000166893005\n"
          ]
        }
      ]
    },
    {
      "cell_type": "code",
      "source": [],
      "metadata": {
        "id": "-5hORGcD1A6L"
      },
      "execution_count": null,
      "outputs": []
    }
  ]
}